{
 "cells": [
  {
   "cell_type": "markdown",
   "metadata": {},
   "source": [
    "# Customer Churn Prediction in Telecom Services"
   ]
  },
  {
   "cell_type": "code",
   "execution_count": 79,
   "metadata": {},
   "outputs": [],
   "source": [
    "# Import modules\n",
    "import pandas as pd\n",
    "import numpy as np"
   ]
  },
  {
   "cell_type": "markdown",
   "metadata": {},
   "source": [
    "#### Loading Dataset"
   ]
  },
  {
   "cell_type": "code",
   "execution_count": 80,
   "metadata": {},
   "outputs": [],
   "source": [
    "train = pd.read_csv('Train.csv')\n",
    "accinfo = pd.read_csv('Train_Accountinfo.csv',na_values=['NA','MISSINGVAL'])\n",
    "demographics = pd.read_csv('Train_Demographics.csv',na_values='?')\n",
    "services = pd.read_csv('Train_ServicesOptedFor.csv')"
   ]
  },
  {
   "cell_type": "markdown",
   "metadata": {},
   "source": [
    "#### Dimensions"
   ]
  },
  {
   "cell_type": "code",
   "execution_count": 81,
   "metadata": {},
   "outputs": [
    {
     "name": "stdout",
     "output_type": "stream",
     "text": [
      "(5298, 2)\n",
      "(5298, 8)\n",
      "(5298, 8)\n",
      "(47682, 3)\n"
     ]
    }
   ],
   "source": [
    "# Shapes of the data \n",
    "print(train.shape)\n",
    "print(accinfo.shape)\n",
    "print(demographics.shape)\n",
    "print(services.shape)"
   ]
  },
  {
   "cell_type": "markdown",
   "metadata": {},
   "source": [
    "From the data, we know that we have CustomerID as PrimaryKey "
   ]
  },
  {
   "cell_type": "code",
   "execution_count": 82,
   "metadata": {},
   "outputs": [
    {
     "name": "stdout",
     "output_type": "stream",
     "text": [
      "5298\n",
      "5298\n",
      "5298\n",
      "5298\n"
     ]
    }
   ],
   "source": [
    "# Unique columns in datasets\n",
    "print(len(train.CustomerID.unique()))\n",
    "print(len(accinfo.CustomerID.unique()))\n",
    "print(len(demographics.HouseholdID.unique()))\n",
    "print(len(services.CustomerID.unique()))"
   ]
  },
  {
   "cell_type": "markdown",
   "metadata": {},
   "source": [
    "#### Merging the data frames by CustomerID"
   ]
  },
  {
   "cell_type": "markdown",
   "metadata": {},
   "source": [
    "Merge train dataframe and accinfo dataframe"
   ]
  },
  {
   "cell_type": "code",
   "execution_count": 83,
   "metadata": {},
   "outputs": [],
   "source": [
    "n1 = pd.merge(train,accinfo,on='CustomerID')"
   ]
  },
  {
   "cell_type": "markdown",
   "metadata": {},
   "source": [
    "Merge finally updated dataframe and demographics dataframe"
   ]
  },
  {
   "cell_type": "code",
   "execution_count": 84,
   "metadata": {},
   "outputs": [],
   "source": [
    "# We have HouseholdID in demographics which is CustomerID so renaming the column. \n",
    "demographics.columns = ['CustomerID', 'Country', 'State', 'Retired', 'HasPartner',\n",
    "       'HasDependents', 'Education', 'Gender']"
   ]
  },
  {
   "cell_type": "code",
   "execution_count": 85,
   "metadata": {},
   "outputs": [],
   "source": [
    "new = pd.merge(n1,demographics,on='CustomerID')"
   ]
  },
  {
   "cell_type": "code",
   "execution_count": 86,
   "metadata": {},
   "outputs": [
    {
     "data": {
      "text/plain": [
       "(5298, 16)"
      ]
     },
     "execution_count": 86,
     "metadata": {},
     "output_type": "execute_result"
    }
   ],
   "source": [
    "# Dimensions\n",
    "new.shape"
   ]
  },
  {
   "cell_type": "markdown",
   "metadata": {},
   "source": [
    "Merge finally updated dataframe and services dataframe"
   ]
  },
  {
   "cell_type": "code",
   "execution_count": 87,
   "metadata": {},
   "outputs": [
    {
     "data": {
      "text/plain": [
       "No                     17410\n",
       "Yes                    13390\n",
       "No internet service     6936\n",
       "1                       4792\n",
       "Fiber optic             2313\n",
       "DSL                     1829\n",
       "No phone service         506\n",
       "0                        506\n",
       "Name: SeviceDetails, dtype: int64"
      ]
     },
     "execution_count": 87,
     "metadata": {},
     "output_type": "execute_result"
    }
   ],
   "source": [
    "# Count - categories \n",
    "services.SeviceDetails.value_counts()"
   ]
  },
  {
   "cell_type": "code",
   "execution_count": 88,
   "metadata": {},
   "outputs": [],
   "source": [
    "# Changing the attribute types to category\n",
    "services.SeviceDetails = services.SeviceDetails.astype('category')"
   ]
  },
  {
   "cell_type": "markdown",
   "metadata": {},
   "source": [
    "Dataframe is in long format, we should make it into wide foramt "
   ]
  },
  {
   "cell_type": "code",
   "execution_count": 89,
   "metadata": {
    "scrolled": true
   },
   "outputs": [
    {
     "data": {
      "text/plain": [
       "4    17410\n",
       "7    13390\n",
       "5     6936\n",
       "1     4792\n",
       "3     2313\n",
       "2     1829\n",
       "6      506\n",
       "0      506\n",
       "Name: SeviceDetails, dtype: int64"
      ]
     },
     "execution_count": 89,
     "metadata": {},
     "output_type": "execute_result"
    }
   ],
   "source": [
    "# Label Encoding\n",
    "services.SeviceDetails = services.SeviceDetails.cat.codes\n",
    "services.SeviceDetails.value_counts()"
   ]
  },
  {
   "cell_type": "markdown",
   "metadata": {},
   "source": [
    "Now, still we can't merge this to our final data frames since each customer has multiple entries.\n",
    "So, we'll convert this into a new table with the pivot_table function"
   ]
  },
  {
   "cell_type": "code",
   "execution_count": 90,
   "metadata": {},
   "outputs": [],
   "source": [
    "# Creating a multilevel index with values as serviceDetails\n",
    "n = services.pivot_table(index=\"CustomerID\", columns=\"TypeOfService\",values = \"SeviceDetails\")"
   ]
  },
  {
   "cell_type": "code",
   "execution_count": 91,
   "metadata": {
    "scrolled": true
   },
   "outputs": [
    {
     "data": {
      "text/html": [
       "<div>\n",
       "<style scoped>\n",
       "    .dataframe tbody tr th:only-of-type {\n",
       "        vertical-align: middle;\n",
       "    }\n",
       "\n",
       "    .dataframe tbody tr th {\n",
       "        vertical-align: top;\n",
       "    }\n",
       "\n",
       "    .dataframe thead th {\n",
       "        text-align: right;\n",
       "    }\n",
       "</style>\n",
       "<table border=\"1\" class=\"dataframe\">\n",
       "  <thead>\n",
       "    <tr style=\"text-align: right;\">\n",
       "      <th>TypeOfService</th>\n",
       "      <th>DeviceProtection</th>\n",
       "      <th>HasPhoneService</th>\n",
       "      <th>InternetServiceCategory</th>\n",
       "      <th>MultipleLines</th>\n",
       "      <th>OnlineBackup</th>\n",
       "      <th>OnlineSecurity</th>\n",
       "      <th>StreamingMovies</th>\n",
       "      <th>StreamingTelevision</th>\n",
       "      <th>TechnicalSupport</th>\n",
       "    </tr>\n",
       "    <tr>\n",
       "      <th>CustomerID</th>\n",
       "      <th></th>\n",
       "      <th></th>\n",
       "      <th></th>\n",
       "      <th></th>\n",
       "      <th></th>\n",
       "      <th></th>\n",
       "      <th></th>\n",
       "      <th></th>\n",
       "      <th></th>\n",
       "    </tr>\n",
       "  </thead>\n",
       "  <tbody>\n",
       "    <tr>\n",
       "      <td>Cust1201</td>\n",
       "      <td>7</td>\n",
       "      <td>1</td>\n",
       "      <td>3</td>\n",
       "      <td>4</td>\n",
       "      <td>4</td>\n",
       "      <td>4</td>\n",
       "      <td>7</td>\n",
       "      <td>7</td>\n",
       "      <td>4</td>\n",
       "    </tr>\n",
       "    <tr>\n",
       "      <td>Cust1202</td>\n",
       "      <td>5</td>\n",
       "      <td>1</td>\n",
       "      <td>4</td>\n",
       "      <td>4</td>\n",
       "      <td>5</td>\n",
       "      <td>5</td>\n",
       "      <td>5</td>\n",
       "      <td>5</td>\n",
       "      <td>5</td>\n",
       "    </tr>\n",
       "    <tr>\n",
       "      <td>Cust1203</td>\n",
       "      <td>4</td>\n",
       "      <td>1</td>\n",
       "      <td>3</td>\n",
       "      <td>4</td>\n",
       "      <td>4</td>\n",
       "      <td>4</td>\n",
       "      <td>7</td>\n",
       "      <td>4</td>\n",
       "      <td>4</td>\n",
       "    </tr>\n",
       "    <tr>\n",
       "      <td>Cust1204</td>\n",
       "      <td>4</td>\n",
       "      <td>1</td>\n",
       "      <td>2</td>\n",
       "      <td>7</td>\n",
       "      <td>7</td>\n",
       "      <td>7</td>\n",
       "      <td>4</td>\n",
       "      <td>4</td>\n",
       "      <td>7</td>\n",
       "    </tr>\n",
       "    <tr>\n",
       "      <td>Cust1205</td>\n",
       "      <td>4</td>\n",
       "      <td>1</td>\n",
       "      <td>3</td>\n",
       "      <td>7</td>\n",
       "      <td>4</td>\n",
       "      <td>4</td>\n",
       "      <td>4</td>\n",
       "      <td>4</td>\n",
       "      <td>4</td>\n",
       "    </tr>\n",
       "  </tbody>\n",
       "</table>\n",
       "</div>"
      ],
      "text/plain": [
       "TypeOfService  DeviceProtection  HasPhoneService  InternetServiceCategory  \\\n",
       "CustomerID                                                                  \n",
       "Cust1201                      7                1                        3   \n",
       "Cust1202                      5                1                        4   \n",
       "Cust1203                      4                1                        3   \n",
       "Cust1204                      4                1                        2   \n",
       "Cust1205                      4                1                        3   \n",
       "\n",
       "TypeOfService  MultipleLines  OnlineBackup  OnlineSecurity  StreamingMovies  \\\n",
       "CustomerID                                                                    \n",
       "Cust1201                   4             4               4                7   \n",
       "Cust1202                   4             5               5                5   \n",
       "Cust1203                   4             4               4                7   \n",
       "Cust1204                   7             7               7                4   \n",
       "Cust1205                   7             4               4                4   \n",
       "\n",
       "TypeOfService  StreamingTelevision  TechnicalSupport  \n",
       "CustomerID                                            \n",
       "Cust1201                         7                 4  \n",
       "Cust1202                         5                 5  \n",
       "Cust1203                         4                 4  \n",
       "Cust1204                         4                 7  \n",
       "Cust1205                         4                 4  "
      ]
     },
     "execution_count": 91,
     "metadata": {},
     "output_type": "execute_result"
    }
   ],
   "source": [
    "n.head()"
   ]
  },
  {
   "cell_type": "markdown",
   "metadata": {},
   "source": [
    "Now, each customer has a single row. So, we can easily merge to our combined dataframe. So, first we need to convert the pivot table to a pandas dataframe."
   ]
  },
  {
   "cell_type": "code",
   "execution_count": 92,
   "metadata": {
    "scrolled": true
   },
   "outputs": [],
   "source": [
    "ser = np.matrix(n)"
   ]
  },
  {
   "cell_type": "code",
   "execution_count": 93,
   "metadata": {},
   "outputs": [
    {
     "data": {
      "text/html": [
       "<div>\n",
       "<style scoped>\n",
       "    .dataframe tbody tr th:only-of-type {\n",
       "        vertical-align: middle;\n",
       "    }\n",
       "\n",
       "    .dataframe tbody tr th {\n",
       "        vertical-align: top;\n",
       "    }\n",
       "\n",
       "    .dataframe thead th {\n",
       "        text-align: right;\n",
       "    }\n",
       "</style>\n",
       "<table border=\"1\" class=\"dataframe\">\n",
       "  <thead>\n",
       "    <tr style=\"text-align: right;\">\n",
       "      <th>TypeOfService</th>\n",
       "      <th>DeviceProtection</th>\n",
       "      <th>HasPhoneService</th>\n",
       "      <th>InternetServiceCategory</th>\n",
       "      <th>MultipleLines</th>\n",
       "      <th>OnlineBackup</th>\n",
       "      <th>OnlineSecurity</th>\n",
       "      <th>StreamingMovies</th>\n",
       "      <th>StreamingTelevision</th>\n",
       "      <th>TechnicalSupport</th>\n",
       "    </tr>\n",
       "  </thead>\n",
       "  <tbody>\n",
       "    <tr>\n",
       "      <td>0</td>\n",
       "      <td>7</td>\n",
       "      <td>1</td>\n",
       "      <td>3</td>\n",
       "      <td>4</td>\n",
       "      <td>4</td>\n",
       "      <td>4</td>\n",
       "      <td>7</td>\n",
       "      <td>7</td>\n",
       "      <td>4</td>\n",
       "    </tr>\n",
       "    <tr>\n",
       "      <td>1</td>\n",
       "      <td>5</td>\n",
       "      <td>1</td>\n",
       "      <td>4</td>\n",
       "      <td>4</td>\n",
       "      <td>5</td>\n",
       "      <td>5</td>\n",
       "      <td>5</td>\n",
       "      <td>5</td>\n",
       "      <td>5</td>\n",
       "    </tr>\n",
       "    <tr>\n",
       "      <td>2</td>\n",
       "      <td>4</td>\n",
       "      <td>1</td>\n",
       "      <td>3</td>\n",
       "      <td>4</td>\n",
       "      <td>4</td>\n",
       "      <td>4</td>\n",
       "      <td>7</td>\n",
       "      <td>4</td>\n",
       "      <td>4</td>\n",
       "    </tr>\n",
       "    <tr>\n",
       "      <td>3</td>\n",
       "      <td>4</td>\n",
       "      <td>1</td>\n",
       "      <td>2</td>\n",
       "      <td>7</td>\n",
       "      <td>7</td>\n",
       "      <td>7</td>\n",
       "      <td>4</td>\n",
       "      <td>4</td>\n",
       "      <td>7</td>\n",
       "    </tr>\n",
       "    <tr>\n",
       "      <td>4</td>\n",
       "      <td>4</td>\n",
       "      <td>1</td>\n",
       "      <td>3</td>\n",
       "      <td>7</td>\n",
       "      <td>4</td>\n",
       "      <td>4</td>\n",
       "      <td>4</td>\n",
       "      <td>4</td>\n",
       "      <td>4</td>\n",
       "    </tr>\n",
       "  </tbody>\n",
       "</table>\n",
       "</div>"
      ],
      "text/plain": [
       "TypeOfService  DeviceProtection  HasPhoneService  InternetServiceCategory  \\\n",
       "0                             7                1                        3   \n",
       "1                             5                1                        4   \n",
       "2                             4                1                        3   \n",
       "3                             4                1                        2   \n",
       "4                             4                1                        3   \n",
       "\n",
       "TypeOfService  MultipleLines  OnlineBackup  OnlineSecurity  StreamingMovies  \\\n",
       "0                          4             4               4                7   \n",
       "1                          4             5               5                5   \n",
       "2                          4             4               4                7   \n",
       "3                          7             7               7                4   \n",
       "4                          7             4               4                4   \n",
       "\n",
       "TypeOfService  StreamingTelevision  TechnicalSupport  \n",
       "0                                7                 4  \n",
       "1                                5                 5  \n",
       "2                                4                 4  \n",
       "3                                4                 7  \n",
       "4                                4                 4  "
      ]
     },
     "execution_count": 93,
     "metadata": {},
     "output_type": "execute_result"
    }
   ],
   "source": [
    "ser = pd.DataFrame(ser,columns=n.columns)\n",
    "ser.head()"
   ]
  },
  {
   "cell_type": "markdown",
   "metadata": {},
   "source": [
    "Merge the service into final dataframe"
   ]
  },
  {
   "cell_type": "code",
   "execution_count": 94,
   "metadata": {},
   "outputs": [],
   "source": [
    "# Concatinating the data frames\n",
    "final = pd.concat([new,ser],1)"
   ]
  },
  {
   "cell_type": "markdown",
   "metadata": {},
   "source": [
    "Here, we can use pd.merge also. But if we're sure that the Customer IDs are sorted and same in both documents. We can simply concatenate"
   ]
  },
  {
   "cell_type": "code",
   "execution_count": 95,
   "metadata": {},
   "outputs": [
    {
     "data": {
      "text/html": [
       "<div>\n",
       "<style scoped>\n",
       "    .dataframe tbody tr th:only-of-type {\n",
       "        vertical-align: middle;\n",
       "    }\n",
       "\n",
       "    .dataframe tbody tr th {\n",
       "        vertical-align: top;\n",
       "    }\n",
       "\n",
       "    .dataframe thead th {\n",
       "        text-align: right;\n",
       "    }\n",
       "</style>\n",
       "<table border=\"1\" class=\"dataframe\">\n",
       "  <thead>\n",
       "    <tr style=\"text-align: right;\">\n",
       "      <th></th>\n",
       "      <th>CustomerID</th>\n",
       "      <th>Churn</th>\n",
       "      <th>BaseCharges</th>\n",
       "      <th>DOC</th>\n",
       "      <th>TotalCharges</th>\n",
       "      <th>DOE</th>\n",
       "      <th>ElectronicBilling</th>\n",
       "      <th>ContractType</th>\n",
       "      <th>PaymentMethod</th>\n",
       "      <th>Country</th>\n",
       "      <th>...</th>\n",
       "      <th>Gender</th>\n",
       "      <th>DeviceProtection</th>\n",
       "      <th>HasPhoneService</th>\n",
       "      <th>InternetServiceCategory</th>\n",
       "      <th>MultipleLines</th>\n",
       "      <th>OnlineBackup</th>\n",
       "      <th>OnlineSecurity</th>\n",
       "      <th>StreamingMovies</th>\n",
       "      <th>StreamingTelevision</th>\n",
       "      <th>TechnicalSupport</th>\n",
       "    </tr>\n",
       "  </thead>\n",
       "  <tbody>\n",
       "    <tr>\n",
       "      <td>0</td>\n",
       "      <td>Cust1201</td>\n",
       "      <td>No</td>\n",
       "      <td>478.50</td>\n",
       "      <td>05-01-2012</td>\n",
       "      <td>5920.00</td>\n",
       "      <td>10-Jan-11</td>\n",
       "      <td>No</td>\n",
       "      <td>One year</td>\n",
       "      <td>Electronic check</td>\n",
       "      <td>India</td>\n",
       "      <td>...</td>\n",
       "      <td>Male</td>\n",
       "      <td>7</td>\n",
       "      <td>1</td>\n",
       "      <td>3</td>\n",
       "      <td>4</td>\n",
       "      <td>4</td>\n",
       "      <td>4</td>\n",
       "      <td>7</td>\n",
       "      <td>7</td>\n",
       "      <td>4</td>\n",
       "    </tr>\n",
       "    <tr>\n",
       "      <td>1</td>\n",
       "      <td>Cust1202</td>\n",
       "      <td>No</td>\n",
       "      <td>103.25</td>\n",
       "      <td>05-01-2012</td>\n",
       "      <td>103.25</td>\n",
       "      <td>06-Dec-11</td>\n",
       "      <td>No</td>\n",
       "      <td>Month-to-month</td>\n",
       "      <td>Electronic check</td>\n",
       "      <td>India</td>\n",
       "      <td>...</td>\n",
       "      <td>Male</td>\n",
       "      <td>5</td>\n",
       "      <td>1</td>\n",
       "      <td>4</td>\n",
       "      <td>4</td>\n",
       "      <td>5</td>\n",
       "      <td>5</td>\n",
       "      <td>5</td>\n",
       "      <td>5</td>\n",
       "      <td>5</td>\n",
       "    </tr>\n",
       "    <tr>\n",
       "      <td>2</td>\n",
       "      <td>Cust1203</td>\n",
       "      <td>No</td>\n",
       "      <td>399.75</td>\n",
       "      <td>05-01-2012</td>\n",
       "      <td>5217.00</td>\n",
       "      <td>10-Jan-11</td>\n",
       "      <td>Yes</td>\n",
       "      <td>Month-to-month</td>\n",
       "      <td>Bank transfer (automatic)</td>\n",
       "      <td>India</td>\n",
       "      <td>...</td>\n",
       "      <td>Male</td>\n",
       "      <td>4</td>\n",
       "      <td>1</td>\n",
       "      <td>3</td>\n",
       "      <td>4</td>\n",
       "      <td>4</td>\n",
       "      <td>4</td>\n",
       "      <td>7</td>\n",
       "      <td>4</td>\n",
       "      <td>4</td>\n",
       "    </tr>\n",
       "    <tr>\n",
       "      <td>3</td>\n",
       "      <td>Cust1204</td>\n",
       "      <td>No</td>\n",
       "      <td>324.75</td>\n",
       "      <td>05-01-2012</td>\n",
       "      <td>22757.50</td>\n",
       "      <td>06-Apr-06</td>\n",
       "      <td>No</td>\n",
       "      <td>One year</td>\n",
       "      <td>Bank transfer (automatic)</td>\n",
       "      <td>India</td>\n",
       "      <td>...</td>\n",
       "      <td>Male</td>\n",
       "      <td>4</td>\n",
       "      <td>1</td>\n",
       "      <td>2</td>\n",
       "      <td>7</td>\n",
       "      <td>7</td>\n",
       "      <td>7</td>\n",
       "      <td>4</td>\n",
       "      <td>4</td>\n",
       "      <td>7</td>\n",
       "    </tr>\n",
       "    <tr>\n",
       "      <td>4</td>\n",
       "      <td>Cust1205</td>\n",
       "      <td>Yes</td>\n",
       "      <td>372.50</td>\n",
       "      <td>05-01-2012</td>\n",
       "      <td>372.50</td>\n",
       "      <td>06-Dec-11</td>\n",
       "      <td>Yes</td>\n",
       "      <td>Month-to-month</td>\n",
       "      <td>Electronic check</td>\n",
       "      <td>India</td>\n",
       "      <td>...</td>\n",
       "      <td>Female</td>\n",
       "      <td>4</td>\n",
       "      <td>1</td>\n",
       "      <td>3</td>\n",
       "      <td>7</td>\n",
       "      <td>4</td>\n",
       "      <td>4</td>\n",
       "      <td>4</td>\n",
       "      <td>4</td>\n",
       "      <td>4</td>\n",
       "    </tr>\n",
       "  </tbody>\n",
       "</table>\n",
       "<p>5 rows × 25 columns</p>\n",
       "</div>"
      ],
      "text/plain": [
       "  CustomerID Churn  BaseCharges         DOC  TotalCharges        DOE  \\\n",
       "0   Cust1201    No       478.50  05-01-2012       5920.00  10-Jan-11   \n",
       "1   Cust1202    No       103.25  05-01-2012        103.25  06-Dec-11   \n",
       "2   Cust1203    No       399.75  05-01-2012       5217.00  10-Jan-11   \n",
       "3   Cust1204    No       324.75  05-01-2012      22757.50  06-Apr-06   \n",
       "4   Cust1205   Yes       372.50  05-01-2012        372.50  06-Dec-11   \n",
       "\n",
       "  ElectronicBilling    ContractType              PaymentMethod Country  ...  \\\n",
       "0                No        One year           Electronic check   India  ...   \n",
       "1                No  Month-to-month           Electronic check   India  ...   \n",
       "2               Yes  Month-to-month  Bank transfer (automatic)   India  ...   \n",
       "3                No        One year  Bank transfer (automatic)   India  ...   \n",
       "4               Yes  Month-to-month           Electronic check   India  ...   \n",
       "\n",
       "   Gender  DeviceProtection  HasPhoneService  InternetServiceCategory  \\\n",
       "0    Male                 7                1                        3   \n",
       "1    Male                 5                1                        4   \n",
       "2    Male                 4                1                        3   \n",
       "3    Male                 4                1                        2   \n",
       "4  Female                 4                1                        3   \n",
       "\n",
       "  MultipleLines OnlineBackup  OnlineSecurity  StreamingMovies  \\\n",
       "0             4            4               4                7   \n",
       "1             4            5               5                5   \n",
       "2             4            4               4                7   \n",
       "3             7            7               7                4   \n",
       "4             7            4               4                4   \n",
       "\n",
       "   StreamingTelevision  TechnicalSupport  \n",
       "0                    7                 4  \n",
       "1                    5                 5  \n",
       "2                    4                 4  \n",
       "3                    4                 7  \n",
       "4                    4                 4  \n",
       "\n",
       "[5 rows x 25 columns]"
      ]
     },
     "execution_count": 95,
     "metadata": {},
     "output_type": "execute_result"
    }
   ],
   "source": [
    "final.head()"
   ]
  },
  {
   "cell_type": "markdown",
   "metadata": {},
   "source": [
    "See all the columns and their data type"
   ]
  },
  {
   "cell_type": "code",
   "execution_count": 96,
   "metadata": {},
   "outputs": [
    {
     "name": "stdout",
     "output_type": "stream",
     "text": [
      "<class 'pandas.core.frame.DataFrame'>\n",
      "Int64Index: 5298 entries, 0 to 5297\n",
      "Data columns (total 25 columns):\n",
      "CustomerID                 5298 non-null object\n",
      "Churn                      5298 non-null object\n",
      "BaseCharges                5298 non-null float64\n",
      "DOC                        5298 non-null object\n",
      "TotalCharges               5288 non-null float64\n",
      "DOE                        5298 non-null object\n",
      "ElectronicBilling          5298 non-null object\n",
      "ContractType               5293 non-null object\n",
      "PaymentMethod              5298 non-null object\n",
      "Country                    5293 non-null object\n",
      "State                      5290 non-null object\n",
      "Retired                    5298 non-null int64\n",
      "HasPartner                 5298 non-null int64\n",
      "HasDependents              5298 non-null int64\n",
      "Education                  5288 non-null object\n",
      "Gender                     5294 non-null object\n",
      "DeviceProtection           5298 non-null int8\n",
      "HasPhoneService            5298 non-null int8\n",
      "InternetServiceCategory    5298 non-null int8\n",
      "MultipleLines              5298 non-null int8\n",
      "OnlineBackup               5298 non-null int8\n",
      "OnlineSecurity             5298 non-null int8\n",
      "StreamingMovies            5298 non-null int8\n",
      "StreamingTelevision        5298 non-null int8\n",
      "TechnicalSupport           5298 non-null int8\n",
      "dtypes: float64(2), int64(3), int8(9), object(11)\n",
      "memory usage: 750.2+ KB\n"
     ]
    }
   ],
   "source": [
    "final.info()"
   ]
  },
  {
   "cell_type": "markdown",
   "metadata": {},
   "source": [
    "Now, we don't need the Country and State details. Because the state and country is same for all the customers. So, we don't want those also."
   ]
  },
  {
   "cell_type": "code",
   "execution_count": 97,
   "metadata": {},
   "outputs": [],
   "source": [
    "# Drop the columns with no variance and unique values\n",
    "final = final.drop(['Country','State'],1)"
   ]
  },
  {
   "cell_type": "markdown",
   "metadata": {},
   "source": [
    "#### Missing Values"
   ]
  },
  {
   "cell_type": "code",
   "execution_count": 98,
   "metadata": {},
   "outputs": [
    {
     "name": "stdout",
     "output_type": "stream",
     "text": [
      "CustomerID                  0\n",
      "Churn                       0\n",
      "BaseCharges                 0\n",
      "DOC                         0\n",
      "TotalCharges               10\n",
      "DOE                         0\n",
      "ElectronicBilling           0\n",
      "ContractType                5\n",
      "PaymentMethod               0\n",
      "Retired                     0\n",
      "HasPartner                  0\n",
      "HasDependents               0\n",
      "Education                  10\n",
      "Gender                      4\n",
      "DeviceProtection            0\n",
      "HasPhoneService             0\n",
      "InternetServiceCategory     0\n",
      "MultipleLines               0\n",
      "OnlineBackup                0\n",
      "OnlineSecurity              0\n",
      "StreamingMovies             0\n",
      "StreamingTelevision         0\n",
      "TechnicalSupport            0\n",
      "dtype: int64\n"
     ]
    }
   ],
   "source": [
    "print(final.isnull().sum())"
   ]
  },
  {
   "cell_type": "markdown",
   "metadata": {},
   "source": [
    "The remove all the row that are containing missing values with dropna() command"
   ]
  },
  {
   "cell_type": "code",
   "execution_count": 99,
   "metadata": {},
   "outputs": [],
   "source": [
    "# Drop missing values \n",
    "final = final.dropna() "
   ]
  },
  {
   "cell_type": "markdown",
   "metadata": {},
   "source": [
    "Now the Dataset index order is false, then it will rearrange"
   ]
  },
  {
   "cell_type": "code",
   "execution_count": 100,
   "metadata": {},
   "outputs": [],
   "source": [
    "final.to_csv('f.csv',index=False)\n",
    "final = pd.read_csv('f.csv')"
   ]
  },
  {
   "cell_type": "code",
   "execution_count": 101,
   "metadata": {},
   "outputs": [
    {
     "data": {
      "text/html": [
       "<div>\n",
       "<style scoped>\n",
       "    .dataframe tbody tr th:only-of-type {\n",
       "        vertical-align: middle;\n",
       "    }\n",
       "\n",
       "    .dataframe tbody tr th {\n",
       "        vertical-align: top;\n",
       "    }\n",
       "\n",
       "    .dataframe thead th {\n",
       "        text-align: right;\n",
       "    }\n",
       "</style>\n",
       "<table border=\"1\" class=\"dataframe\">\n",
       "  <thead>\n",
       "    <tr style=\"text-align: right;\">\n",
       "      <th></th>\n",
       "      <th>CustomerID</th>\n",
       "      <th>Churn</th>\n",
       "      <th>BaseCharges</th>\n",
       "      <th>DOC</th>\n",
       "      <th>TotalCharges</th>\n",
       "      <th>DOE</th>\n",
       "      <th>ElectronicBilling</th>\n",
       "      <th>ContractType</th>\n",
       "      <th>PaymentMethod</th>\n",
       "      <th>Retired</th>\n",
       "      <th>...</th>\n",
       "      <th>Gender</th>\n",
       "      <th>DeviceProtection</th>\n",
       "      <th>HasPhoneService</th>\n",
       "      <th>InternetServiceCategory</th>\n",
       "      <th>MultipleLines</th>\n",
       "      <th>OnlineBackup</th>\n",
       "      <th>OnlineSecurity</th>\n",
       "      <th>StreamingMovies</th>\n",
       "      <th>StreamingTelevision</th>\n",
       "      <th>TechnicalSupport</th>\n",
       "    </tr>\n",
       "  </thead>\n",
       "  <tbody>\n",
       "    <tr>\n",
       "      <td>0</td>\n",
       "      <td>Cust1201</td>\n",
       "      <td>No</td>\n",
       "      <td>478.50</td>\n",
       "      <td>05-01-2012</td>\n",
       "      <td>5920.00</td>\n",
       "      <td>10-Jan-11</td>\n",
       "      <td>No</td>\n",
       "      <td>One year</td>\n",
       "      <td>Electronic check</td>\n",
       "      <td>0</td>\n",
       "      <td>...</td>\n",
       "      <td>Male</td>\n",
       "      <td>7</td>\n",
       "      <td>1</td>\n",
       "      <td>3</td>\n",
       "      <td>4</td>\n",
       "      <td>4</td>\n",
       "      <td>4</td>\n",
       "      <td>7</td>\n",
       "      <td>7</td>\n",
       "      <td>4</td>\n",
       "    </tr>\n",
       "    <tr>\n",
       "      <td>1</td>\n",
       "      <td>Cust1202</td>\n",
       "      <td>No</td>\n",
       "      <td>103.25</td>\n",
       "      <td>05-01-2012</td>\n",
       "      <td>103.25</td>\n",
       "      <td>06-Dec-11</td>\n",
       "      <td>No</td>\n",
       "      <td>Month-to-month</td>\n",
       "      <td>Electronic check</td>\n",
       "      <td>0</td>\n",
       "      <td>...</td>\n",
       "      <td>Male</td>\n",
       "      <td>5</td>\n",
       "      <td>1</td>\n",
       "      <td>4</td>\n",
       "      <td>4</td>\n",
       "      <td>5</td>\n",
       "      <td>5</td>\n",
       "      <td>5</td>\n",
       "      <td>5</td>\n",
       "      <td>5</td>\n",
       "    </tr>\n",
       "    <tr>\n",
       "      <td>2</td>\n",
       "      <td>Cust1203</td>\n",
       "      <td>No</td>\n",
       "      <td>399.75</td>\n",
       "      <td>05-01-2012</td>\n",
       "      <td>5217.00</td>\n",
       "      <td>10-Jan-11</td>\n",
       "      <td>Yes</td>\n",
       "      <td>Month-to-month</td>\n",
       "      <td>Bank transfer (automatic)</td>\n",
       "      <td>0</td>\n",
       "      <td>...</td>\n",
       "      <td>Male</td>\n",
       "      <td>4</td>\n",
       "      <td>1</td>\n",
       "      <td>3</td>\n",
       "      <td>4</td>\n",
       "      <td>4</td>\n",
       "      <td>4</td>\n",
       "      <td>7</td>\n",
       "      <td>4</td>\n",
       "      <td>4</td>\n",
       "    </tr>\n",
       "    <tr>\n",
       "      <td>3</td>\n",
       "      <td>Cust1204</td>\n",
       "      <td>No</td>\n",
       "      <td>324.75</td>\n",
       "      <td>05-01-2012</td>\n",
       "      <td>22757.50</td>\n",
       "      <td>06-Apr-06</td>\n",
       "      <td>No</td>\n",
       "      <td>One year</td>\n",
       "      <td>Bank transfer (automatic)</td>\n",
       "      <td>0</td>\n",
       "      <td>...</td>\n",
       "      <td>Male</td>\n",
       "      <td>4</td>\n",
       "      <td>1</td>\n",
       "      <td>2</td>\n",
       "      <td>7</td>\n",
       "      <td>7</td>\n",
       "      <td>7</td>\n",
       "      <td>4</td>\n",
       "      <td>4</td>\n",
       "      <td>7</td>\n",
       "    </tr>\n",
       "    <tr>\n",
       "      <td>4</td>\n",
       "      <td>Cust1205</td>\n",
       "      <td>Yes</td>\n",
       "      <td>372.50</td>\n",
       "      <td>05-01-2012</td>\n",
       "      <td>372.50</td>\n",
       "      <td>06-Dec-11</td>\n",
       "      <td>Yes</td>\n",
       "      <td>Month-to-month</td>\n",
       "      <td>Electronic check</td>\n",
       "      <td>0</td>\n",
       "      <td>...</td>\n",
       "      <td>Female</td>\n",
       "      <td>4</td>\n",
       "      <td>1</td>\n",
       "      <td>3</td>\n",
       "      <td>7</td>\n",
       "      <td>4</td>\n",
       "      <td>4</td>\n",
       "      <td>4</td>\n",
       "      <td>4</td>\n",
       "      <td>4</td>\n",
       "    </tr>\n",
       "  </tbody>\n",
       "</table>\n",
       "<p>5 rows × 23 columns</p>\n",
       "</div>"
      ],
      "text/plain": [
       "  CustomerID Churn  BaseCharges         DOC  TotalCharges        DOE  \\\n",
       "0   Cust1201    No       478.50  05-01-2012       5920.00  10-Jan-11   \n",
       "1   Cust1202    No       103.25  05-01-2012        103.25  06-Dec-11   \n",
       "2   Cust1203    No       399.75  05-01-2012       5217.00  10-Jan-11   \n",
       "3   Cust1204    No       324.75  05-01-2012      22757.50  06-Apr-06   \n",
       "4   Cust1205   Yes       372.50  05-01-2012        372.50  06-Dec-11   \n",
       "\n",
       "  ElectronicBilling    ContractType              PaymentMethod  Retired  ...  \\\n",
       "0                No        One year           Electronic check        0  ...   \n",
       "1                No  Month-to-month           Electronic check        0  ...   \n",
       "2               Yes  Month-to-month  Bank transfer (automatic)        0  ...   \n",
       "3                No        One year  Bank transfer (automatic)        0  ...   \n",
       "4               Yes  Month-to-month           Electronic check        0  ...   \n",
       "\n",
       "   Gender  DeviceProtection HasPhoneService InternetServiceCategory  \\\n",
       "0    Male                 7               1                       3   \n",
       "1    Male                 5               1                       4   \n",
       "2    Male                 4               1                       3   \n",
       "3    Male                 4               1                       2   \n",
       "4  Female                 4               1                       3   \n",
       "\n",
       "   MultipleLines  OnlineBackup  OnlineSecurity  StreamingMovies  \\\n",
       "0              4             4               4                7   \n",
       "1              4             5               5                5   \n",
       "2              4             4               4                7   \n",
       "3              7             7               7                4   \n",
       "4              7             4               4                4   \n",
       "\n",
       "   StreamingTelevision  TechnicalSupport  \n",
       "0                    7                 4  \n",
       "1                    5                 5  \n",
       "2                    4                 4  \n",
       "3                    4                 7  \n",
       "4                    4                 4  \n",
       "\n",
       "[5 rows x 23 columns]"
      ]
     },
     "execution_count": 101,
     "metadata": {},
     "output_type": "execute_result"
    }
   ],
   "source": [
    "final.head()"
   ]
  },
  {
   "cell_type": "code",
   "execution_count": 102,
   "metadata": {},
   "outputs": [
    {
     "name": "stdout",
     "output_type": "stream",
     "text": [
      "(5269, 23)\n"
     ]
    }
   ],
   "source": [
    "# Shape\n",
    "print(final.shape)"
   ]
  },
  {
   "cell_type": "markdown",
   "metadata": {},
   "source": [
    "#### Type Casting\n",
    "Convert each columns to its appropriate format. BaseCharges and TotalCharges as number. DOC and DOE in date format. All other entries are categories (for label encoding)"
   ]
  },
  {
   "cell_type": "code",
   "execution_count": 103,
   "metadata": {},
   "outputs": [],
   "source": [
    "num = [ 'BaseCharges',  'TotalCharges' ]\n",
    "date = ['DOC', 'DOE']      \n",
    "cat = ['Churn','ElectronicBilling','ContractType', 'PaymentMethod', \n",
    "       'Retired', 'HasPartner', 'HasDependents', 'Education',\n",
    "        'Gender','DeviceProtection', 'HasPhoneService',\n",
    "       'InternetServiceCategory', 'MultipleLines', 'OnlineBackup',\n",
    "       'OnlineSecurity', 'StreamingMovies', 'StreamingTelevision',\n",
    "       'TechnicalSupport']"
   ]
  },
  {
   "cell_type": "markdown",
   "metadata": {},
   "source": [
    "##### Categorical"
   ]
  },
  {
   "cell_type": "code",
   "execution_count": 104,
   "metadata": {},
   "outputs": [
    {
     "name": "stdout",
     "output_type": "stream",
     "text": [
      "0        No\n",
      "1        No\n",
      "2        No\n",
      "3        No\n",
      "4       Yes\n",
      "       ... \n",
      "5264     No\n",
      "5265     No\n",
      "5266     No\n",
      "5267     No\n",
      "5268    Yes\n",
      "Name: Churn, Length: 5269, dtype: category\n",
      "Categories (2, object): [No, Yes]\n",
      "0        No\n",
      "1        No\n",
      "2       Yes\n",
      "3        No\n",
      "4       Yes\n",
      "       ... \n",
      "5264    Yes\n",
      "5265    Yes\n",
      "5266    Yes\n",
      "5267    Yes\n",
      "5268     No\n",
      "Name: ElectronicBilling, Length: 5269, dtype: category\n",
      "Categories (2, object): [No, Yes]\n",
      "0             One year\n",
      "1       Month-to-month\n",
      "2       Month-to-month\n",
      "3             One year\n",
      "4       Month-to-month\n",
      "             ...      \n",
      "5264          Two year\n",
      "5265    Month-to-month\n",
      "5266    Month-to-month\n",
      "5267    Month-to-month\n",
      "5268          Two year\n",
      "Name: ContractType, Length: 5269, dtype: category\n",
      "Categories (3, object): [Month-to-month, One year, Two year]\n",
      "0                Electronic check\n",
      "1                Electronic check\n",
      "2       Bank transfer (automatic)\n",
      "3       Bank transfer (automatic)\n",
      "4                Electronic check\n",
      "                  ...            \n",
      "5264      Credit card (automatic)\n",
      "5265      Credit card (automatic)\n",
      "5266      Credit card (automatic)\n",
      "5267      Credit card (automatic)\n",
      "5268      Credit card (automatic)\n",
      "Name: PaymentMethod, Length: 5269, dtype: category\n",
      "Categories (4, object): [Bank transfer (automatic), Credit card (automatic), Electronic check, Mailed check]\n",
      "0       0\n",
      "1       0\n",
      "2       0\n",
      "3       0\n",
      "4       0\n",
      "       ..\n",
      "5264    0\n",
      "5265    1\n",
      "5266    0\n",
      "5267    1\n",
      "5268    0\n",
      "Name: Retired, Length: 5269, dtype: category\n",
      "Categories (2, int64): [0, 1]\n",
      "0       2\n",
      "1       2\n",
      "2       2\n",
      "3       2\n",
      "4       2\n",
      "       ..\n",
      "5264    2\n",
      "5265    1\n",
      "5266    1\n",
      "5267    1\n",
      "5268    1\n",
      "Name: HasPartner, Length: 5269, dtype: category\n",
      "Categories (2, int64): [1, 2]\n",
      "0       2\n",
      "1       2\n",
      "2       2\n",
      "3       1\n",
      "4       2\n",
      "       ..\n",
      "5264    2\n",
      "5265    2\n",
      "5266    1\n",
      "5267    2\n",
      "5268    2\n",
      "Name: HasDependents, Length: 5269, dtype: category\n",
      "Categories (2, int64): [1, 2]\n",
      "0                        Masters\n",
      "1       ProfessionalQalification\n",
      "2       ProfessionalQalification\n",
      "3       ProfessionalQalification\n",
      "4       ProfessionalQalification\n",
      "                  ...           \n",
      "5264    ProfessionalQalification\n",
      "5265    ProfessionalQalification\n",
      "5266                     Masters\n",
      "5267         Highschool or below\n",
      "5268         Highschool or below\n",
      "Name: Education, Length: 5269, dtype: category\n",
      "Categories (5, object): [Graduation, Highschool or below, Masters, Other, ProfessionalQalification]\n",
      "0         Male\n",
      "1         Male\n",
      "2         Male\n",
      "3         Male\n",
      "4       Female\n",
      "         ...  \n",
      "5264      Male\n",
      "5265    Female\n",
      "5266    Female\n",
      "5267      Male\n",
      "5268    Female\n",
      "Name: Gender, Length: 5269, dtype: category\n",
      "Categories (2, object): [Female, Male]\n",
      "0       7\n",
      "1       5\n",
      "2       4\n",
      "3       4\n",
      "4       4\n",
      "       ..\n",
      "5264    5\n",
      "5265    7\n",
      "5266    4\n",
      "5267    7\n",
      "5268    5\n",
      "Name: DeviceProtection, Length: 5269, dtype: category\n",
      "Categories (3, int64): [4, 5, 7]\n",
      "0       1\n",
      "1       1\n",
      "2       1\n",
      "3       1\n",
      "4       1\n",
      "       ..\n",
      "5264    1\n",
      "5265    1\n",
      "5266    1\n",
      "5267    1\n",
      "5268    1\n",
      "Name: HasPhoneService, Length: 5269, dtype: category\n",
      "Categories (2, int64): [0, 1]\n",
      "0       3\n",
      "1       4\n",
      "2       3\n",
      "3       2\n",
      "4       3\n",
      "       ..\n",
      "5264    4\n",
      "5265    3\n",
      "5266    2\n",
      "5267    3\n",
      "5268    4\n",
      "Name: InternetServiceCategory, Length: 5269, dtype: category\n",
      "Categories (3, int64): [2, 3, 4]\n",
      "0       4\n",
      "1       4\n",
      "2       4\n",
      "3       7\n",
      "4       7\n",
      "       ..\n",
      "5264    4\n",
      "5265    7\n",
      "5266    7\n",
      "5267    4\n",
      "5268    4\n",
      "Name: MultipleLines, Length: 5269, dtype: category\n",
      "Categories (3, int64): [4, 6, 7]\n",
      "0       4\n",
      "1       5\n",
      "2       4\n",
      "3       7\n",
      "4       4\n",
      "       ..\n",
      "5264    5\n",
      "5265    7\n",
      "5266    7\n",
      "5267    4\n",
      "5268    5\n",
      "Name: OnlineBackup, Length: 5269, dtype: category\n",
      "Categories (3, int64): [4, 5, 7]\n",
      "0       4\n",
      "1       5\n",
      "2       4\n",
      "3       7\n",
      "4       4\n",
      "       ..\n",
      "5264    5\n",
      "5265    7\n",
      "5266    4\n",
      "5267    4\n",
      "5268    5\n",
      "Name: OnlineSecurity, Length: 5269, dtype: category\n",
      "Categories (3, int64): [4, 5, 7]\n",
      "0       7\n",
      "1       5\n",
      "2       7\n",
      "3       4\n",
      "4       4\n",
      "       ..\n",
      "5264    5\n",
      "5265    4\n",
      "5266    4\n",
      "5267    4\n",
      "5268    5\n",
      "Name: StreamingMovies, Length: 5269, dtype: category\n",
      "Categories (3, int64): [4, 5, 7]\n",
      "0       7\n",
      "1       5\n",
      "2       4\n",
      "3       4\n",
      "4       4\n",
      "       ..\n",
      "5264    5\n",
      "5265    4\n",
      "5266    7\n",
      "5267    7\n",
      "5268    5\n",
      "Name: StreamingTelevision, Length: 5269, dtype: category\n",
      "Categories (3, int64): [4, 5, 7]\n",
      "0       4\n",
      "1       5\n",
      "2       4\n",
      "3       7\n",
      "4       4\n",
      "       ..\n",
      "5264    5\n",
      "5265    7\n",
      "5266    7\n",
      "5267    4\n",
      "5268    5\n",
      "Name: TechnicalSupport, Length: 5269, dtype: category\n",
      "Categories (3, int64): [4, 5, 7]\n"
     ]
    }
   ],
   "source": [
    "# Changing attributes to category\n",
    "for i in cat:\n",
    "    final[i] = final[i].astype('category')\n",
    "    print(final[i])"
   ]
  },
  {
   "cell_type": "code",
   "execution_count": 105,
   "metadata": {},
   "outputs": [
    {
     "name": "stdout",
     "output_type": "stream",
     "text": [
      "0       0\n",
      "1       0\n",
      "2       0\n",
      "3       0\n",
      "4       1\n",
      "       ..\n",
      "5264    0\n",
      "5265    0\n",
      "5266    0\n",
      "5267    0\n",
      "5268    1\n",
      "Name: Churn, Length: 5269, dtype: category\n",
      "Categories (2, int64): [0, 1]\n",
      "0       0\n",
      "1       0\n",
      "2       1\n",
      "3       0\n",
      "4       1\n",
      "       ..\n",
      "5264    1\n",
      "5265    1\n",
      "5266    1\n",
      "5267    1\n",
      "5268    0\n",
      "Name: ElectronicBilling, Length: 5269, dtype: category\n",
      "Categories (2, int64): [0, 1]\n",
      "0       1\n",
      "1       0\n",
      "2       0\n",
      "3       1\n",
      "4       0\n",
      "       ..\n",
      "5264    2\n",
      "5265    0\n",
      "5266    0\n",
      "5267    0\n",
      "5268    2\n",
      "Name: ContractType, Length: 5269, dtype: category\n",
      "Categories (3, int64): [0, 1, 2]\n",
      "0       2\n",
      "1       2\n",
      "2       0\n",
      "3       0\n",
      "4       2\n",
      "       ..\n",
      "5264    1\n",
      "5265    1\n",
      "5266    1\n",
      "5267    1\n",
      "5268    1\n",
      "Name: PaymentMethod, Length: 5269, dtype: category\n",
      "Categories (4, int64): [0, 1, 2, 3]\n",
      "0       0\n",
      "1       0\n",
      "2       0\n",
      "3       0\n",
      "4       0\n",
      "       ..\n",
      "5264    0\n",
      "5265    1\n",
      "5266    0\n",
      "5267    1\n",
      "5268    0\n",
      "Name: Retired, Length: 5269, dtype: category\n",
      "Categories (2, int64): [0, 1]\n",
      "0       1\n",
      "1       1\n",
      "2       1\n",
      "3       1\n",
      "4       1\n",
      "       ..\n",
      "5264    1\n",
      "5265    0\n",
      "5266    0\n",
      "5267    0\n",
      "5268    0\n",
      "Name: HasPartner, Length: 5269, dtype: category\n",
      "Categories (2, int64): [0, 1]\n",
      "0       1\n",
      "1       1\n",
      "2       1\n",
      "3       0\n",
      "4       1\n",
      "       ..\n",
      "5264    1\n",
      "5265    1\n",
      "5266    0\n",
      "5267    1\n",
      "5268    1\n",
      "Name: HasDependents, Length: 5269, dtype: category\n",
      "Categories (2, int64): [0, 1]\n",
      "0       2\n",
      "1       4\n",
      "2       4\n",
      "3       4\n",
      "4       4\n",
      "       ..\n",
      "5264    4\n",
      "5265    4\n",
      "5266    2\n",
      "5267    1\n",
      "5268    1\n",
      "Name: Education, Length: 5269, dtype: category\n",
      "Categories (5, int64): [0, 1, 2, 3, 4]\n",
      "0       1\n",
      "1       1\n",
      "2       1\n",
      "3       1\n",
      "4       0\n",
      "       ..\n",
      "5264    1\n",
      "5265    0\n",
      "5266    0\n",
      "5267    1\n",
      "5268    0\n",
      "Name: Gender, Length: 5269, dtype: category\n",
      "Categories (2, int64): [0, 1]\n",
      "0       2\n",
      "1       1\n",
      "2       0\n",
      "3       0\n",
      "4       0\n",
      "       ..\n",
      "5264    1\n",
      "5265    2\n",
      "5266    0\n",
      "5267    2\n",
      "5268    1\n",
      "Name: DeviceProtection, Length: 5269, dtype: category\n",
      "Categories (3, int64): [0, 1, 2]\n",
      "0       1\n",
      "1       1\n",
      "2       1\n",
      "3       1\n",
      "4       1\n",
      "       ..\n",
      "5264    1\n",
      "5265    1\n",
      "5266    1\n",
      "5267    1\n",
      "5268    1\n",
      "Name: HasPhoneService, Length: 5269, dtype: category\n",
      "Categories (2, int64): [0, 1]\n",
      "0       1\n",
      "1       2\n",
      "2       1\n",
      "3       0\n",
      "4       1\n",
      "       ..\n",
      "5264    2\n",
      "5265    1\n",
      "5266    0\n",
      "5267    1\n",
      "5268    2\n",
      "Name: InternetServiceCategory, Length: 5269, dtype: category\n",
      "Categories (3, int64): [0, 1, 2]\n",
      "0       0\n",
      "1       0\n",
      "2       0\n",
      "3       2\n",
      "4       2\n",
      "       ..\n",
      "5264    0\n",
      "5265    2\n",
      "5266    2\n",
      "5267    0\n",
      "5268    0\n",
      "Name: MultipleLines, Length: 5269, dtype: category\n",
      "Categories (3, int64): [0, 1, 2]\n",
      "0       0\n",
      "1       1\n",
      "2       0\n",
      "3       2\n",
      "4       0\n",
      "       ..\n",
      "5264    1\n",
      "5265    2\n",
      "5266    2\n",
      "5267    0\n",
      "5268    1\n",
      "Name: OnlineBackup, Length: 5269, dtype: category\n",
      "Categories (3, int64): [0, 1, 2]\n",
      "0       0\n",
      "1       1\n",
      "2       0\n",
      "3       2\n",
      "4       0\n",
      "       ..\n",
      "5264    1\n",
      "5265    2\n",
      "5266    0\n",
      "5267    0\n",
      "5268    1\n",
      "Name: OnlineSecurity, Length: 5269, dtype: category\n",
      "Categories (3, int64): [0, 1, 2]\n",
      "0       2\n",
      "1       1\n",
      "2       2\n",
      "3       0\n",
      "4       0\n",
      "       ..\n",
      "5264    1\n",
      "5265    0\n",
      "5266    0\n",
      "5267    0\n",
      "5268    1\n",
      "Name: StreamingMovies, Length: 5269, dtype: category\n",
      "Categories (3, int64): [0, 1, 2]\n",
      "0       2\n",
      "1       1\n",
      "2       0\n",
      "3       0\n",
      "4       0\n",
      "       ..\n",
      "5264    1\n",
      "5265    0\n",
      "5266    2\n",
      "5267    2\n",
      "5268    1\n",
      "Name: StreamingTelevision, Length: 5269, dtype: category\n",
      "Categories (3, int64): [0, 1, 2]\n",
      "0       0\n",
      "1       1\n",
      "2       0\n",
      "3       2\n",
      "4       0\n",
      "       ..\n",
      "5264    1\n",
      "5265    2\n",
      "5266    2\n",
      "5267    0\n",
      "5268    1\n",
      "Name: TechnicalSupport, Length: 5269, dtype: category\n",
      "Categories (3, int64): [0, 1, 2]\n"
     ]
    }
   ],
   "source": [
    "# Label Encoding for categorical attributes\n",
    "for i in cat:\n",
    "    final[i] = final[i].cat.codes\n",
    "for i in cat:\n",
    "    final[i] = final[i].astype('category')\n",
    "    print(final[i])"
   ]
  },
  {
   "cell_type": "code",
   "execution_count": 106,
   "metadata": {},
   "outputs": [
    {
     "data": {
      "text/html": [
       "<div>\n",
       "<style scoped>\n",
       "    .dataframe tbody tr th:only-of-type {\n",
       "        vertical-align: middle;\n",
       "    }\n",
       "\n",
       "    .dataframe tbody tr th {\n",
       "        vertical-align: top;\n",
       "    }\n",
       "\n",
       "    .dataframe thead th {\n",
       "        text-align: right;\n",
       "    }\n",
       "</style>\n",
       "<table border=\"1\" class=\"dataframe\">\n",
       "  <thead>\n",
       "    <tr style=\"text-align: right;\">\n",
       "      <th></th>\n",
       "      <th>CustomerID</th>\n",
       "      <th>Churn</th>\n",
       "      <th>BaseCharges</th>\n",
       "      <th>DOC</th>\n",
       "      <th>TotalCharges</th>\n",
       "      <th>DOE</th>\n",
       "      <th>ElectronicBilling</th>\n",
       "      <th>ContractType</th>\n",
       "      <th>PaymentMethod</th>\n",
       "      <th>Retired</th>\n",
       "      <th>...</th>\n",
       "      <th>Gender</th>\n",
       "      <th>DeviceProtection</th>\n",
       "      <th>HasPhoneService</th>\n",
       "      <th>InternetServiceCategory</th>\n",
       "      <th>MultipleLines</th>\n",
       "      <th>OnlineBackup</th>\n",
       "      <th>OnlineSecurity</th>\n",
       "      <th>StreamingMovies</th>\n",
       "      <th>StreamingTelevision</th>\n",
       "      <th>TechnicalSupport</th>\n",
       "    </tr>\n",
       "  </thead>\n",
       "  <tbody>\n",
       "    <tr>\n",
       "      <td>0</td>\n",
       "      <td>Cust1201</td>\n",
       "      <td>0</td>\n",
       "      <td>478.50</td>\n",
       "      <td>05-01-2012</td>\n",
       "      <td>5920.00</td>\n",
       "      <td>10-Jan-11</td>\n",
       "      <td>0</td>\n",
       "      <td>1</td>\n",
       "      <td>2</td>\n",
       "      <td>0</td>\n",
       "      <td>...</td>\n",
       "      <td>1</td>\n",
       "      <td>2</td>\n",
       "      <td>1</td>\n",
       "      <td>1</td>\n",
       "      <td>0</td>\n",
       "      <td>0</td>\n",
       "      <td>0</td>\n",
       "      <td>2</td>\n",
       "      <td>2</td>\n",
       "      <td>0</td>\n",
       "    </tr>\n",
       "    <tr>\n",
       "      <td>1</td>\n",
       "      <td>Cust1202</td>\n",
       "      <td>0</td>\n",
       "      <td>103.25</td>\n",
       "      <td>05-01-2012</td>\n",
       "      <td>103.25</td>\n",
       "      <td>06-Dec-11</td>\n",
       "      <td>0</td>\n",
       "      <td>0</td>\n",
       "      <td>2</td>\n",
       "      <td>0</td>\n",
       "      <td>...</td>\n",
       "      <td>1</td>\n",
       "      <td>1</td>\n",
       "      <td>1</td>\n",
       "      <td>2</td>\n",
       "      <td>0</td>\n",
       "      <td>1</td>\n",
       "      <td>1</td>\n",
       "      <td>1</td>\n",
       "      <td>1</td>\n",
       "      <td>1</td>\n",
       "    </tr>\n",
       "    <tr>\n",
       "      <td>2</td>\n",
       "      <td>Cust1203</td>\n",
       "      <td>0</td>\n",
       "      <td>399.75</td>\n",
       "      <td>05-01-2012</td>\n",
       "      <td>5217.00</td>\n",
       "      <td>10-Jan-11</td>\n",
       "      <td>1</td>\n",
       "      <td>0</td>\n",
       "      <td>0</td>\n",
       "      <td>0</td>\n",
       "      <td>...</td>\n",
       "      <td>1</td>\n",
       "      <td>0</td>\n",
       "      <td>1</td>\n",
       "      <td>1</td>\n",
       "      <td>0</td>\n",
       "      <td>0</td>\n",
       "      <td>0</td>\n",
       "      <td>2</td>\n",
       "      <td>0</td>\n",
       "      <td>0</td>\n",
       "    </tr>\n",
       "    <tr>\n",
       "      <td>3</td>\n",
       "      <td>Cust1204</td>\n",
       "      <td>0</td>\n",
       "      <td>324.75</td>\n",
       "      <td>05-01-2012</td>\n",
       "      <td>22757.50</td>\n",
       "      <td>06-Apr-06</td>\n",
       "      <td>0</td>\n",
       "      <td>1</td>\n",
       "      <td>0</td>\n",
       "      <td>0</td>\n",
       "      <td>...</td>\n",
       "      <td>1</td>\n",
       "      <td>0</td>\n",
       "      <td>1</td>\n",
       "      <td>0</td>\n",
       "      <td>2</td>\n",
       "      <td>2</td>\n",
       "      <td>2</td>\n",
       "      <td>0</td>\n",
       "      <td>0</td>\n",
       "      <td>2</td>\n",
       "    </tr>\n",
       "    <tr>\n",
       "      <td>4</td>\n",
       "      <td>Cust1205</td>\n",
       "      <td>1</td>\n",
       "      <td>372.50</td>\n",
       "      <td>05-01-2012</td>\n",
       "      <td>372.50</td>\n",
       "      <td>06-Dec-11</td>\n",
       "      <td>1</td>\n",
       "      <td>0</td>\n",
       "      <td>2</td>\n",
       "      <td>0</td>\n",
       "      <td>...</td>\n",
       "      <td>0</td>\n",
       "      <td>0</td>\n",
       "      <td>1</td>\n",
       "      <td>1</td>\n",
       "      <td>2</td>\n",
       "      <td>0</td>\n",
       "      <td>0</td>\n",
       "      <td>0</td>\n",
       "      <td>0</td>\n",
       "      <td>0</td>\n",
       "    </tr>\n",
       "  </tbody>\n",
       "</table>\n",
       "<p>5 rows × 23 columns</p>\n",
       "</div>"
      ],
      "text/plain": [
       "  CustomerID Churn  BaseCharges         DOC  TotalCharges        DOE  \\\n",
       "0   Cust1201     0       478.50  05-01-2012       5920.00  10-Jan-11   \n",
       "1   Cust1202     0       103.25  05-01-2012        103.25  06-Dec-11   \n",
       "2   Cust1203     0       399.75  05-01-2012       5217.00  10-Jan-11   \n",
       "3   Cust1204     0       324.75  05-01-2012      22757.50  06-Apr-06   \n",
       "4   Cust1205     1       372.50  05-01-2012        372.50  06-Dec-11   \n",
       "\n",
       "  ElectronicBilling ContractType PaymentMethod Retired  ... Gender  \\\n",
       "0                 0            1             2       0  ...      1   \n",
       "1                 0            0             2       0  ...      1   \n",
       "2                 1            0             0       0  ...      1   \n",
       "3                 0            1             0       0  ...      1   \n",
       "4                 1            0             2       0  ...      0   \n",
       "\n",
       "  DeviceProtection HasPhoneService InternetServiceCategory MultipleLines  \\\n",
       "0                2               1                       1             0   \n",
       "1                1               1                       2             0   \n",
       "2                0               1                       1             0   \n",
       "3                0               1                       0             2   \n",
       "4                0               1                       1             2   \n",
       "\n",
       "  OnlineBackup OnlineSecurity StreamingMovies StreamingTelevision  \\\n",
       "0            0              0               2                   2   \n",
       "1            1              1               1                   1   \n",
       "2            0              0               2                   0   \n",
       "3            2              2               0                   0   \n",
       "4            0              0               0                   0   \n",
       "\n",
       "  TechnicalSupport  \n",
       "0                0  \n",
       "1                1  \n",
       "2                0  \n",
       "3                2  \n",
       "4                0  \n",
       "\n",
       "[5 rows x 23 columns]"
      ]
     },
     "execution_count": 106,
     "metadata": {},
     "output_type": "execute_result"
    }
   ],
   "source": [
    "final.head()"
   ]
  },
  {
   "cell_type": "markdown",
   "metadata": {},
   "source": [
    "### Analysis:"
   ]
  },
  {
   "cell_type": "code",
   "execution_count": 107,
   "metadata": {},
   "outputs": [],
   "source": [
    "import matplotlib.pyplot as plt\n",
    "%matplotlib inline"
   ]
  },
  {
   "cell_type": "code",
   "execution_count": 108,
   "metadata": {},
   "outputs": [
    {
     "data": {
      "image/png": "[encoded data removed]",
      "text/plain": [
       "<Figure size 432x288 with 1 Axes>"
      ]
     },
     "metadata": {
      "needs_background": "light"
     },
     "output_type": "display_data"
    },
    {
     "data": {
      "image/png": "[encoded data removed]",
      "text/plain": [
       "<Figure size 432x288 with 1 Axes>"
      ]
     },
     "metadata": {
      "needs_background": "light"
     },
     "output_type": "display_data"
    },
    {
     "data": {
      "image/png": "[encoded data removed]",
      "text/plain": [
       "<Figure size 432x288 with 1 Axes>"
      ]
     },
     "metadata": {
      "needs_background": "light"
     },
     "output_type": "display_data"
    },
    {
     "data": {
      "image/png": "[encoded data removed]",
      "text/plain": [
       "<Figure size 432x288 with 1 Axes>"
      ]
     },
     "metadata": {
      "needs_background": "light"
     },
     "output_type": "display_data"
    },
    {
     "data": {
      "image/png": "[encoded data removed]",
      "text/plain": [
       "<Figure size 432x288 with 1 Axes>"
      ]
     },
     "metadata": {
      "needs_background": "light"
     },
     "output_type": "display_data"
    },
    {
     "data": {
      "image/png": "[encoded data removed]",
      "text/plain": [
       "<Figure size 432x288 with 1 Axes>"
      ]
     },
     "metadata": {
      "needs_background": "light"
     },
     "output_type": "display_data"
    },
    {
     "data": {
      "image/png": "[encoded data removed]",
      "text/plain": [
       "<Figure size 432x288 with 1 Axes>"
      ]
     },
     "metadata": {
      "needs_background": "light"
     },
     "output_type": "display_data"
    },
    {
     "data": {
      "image/png": "[encoded data removed]",
      "text/plain": [
       "<Figure size 432x288 with 1 Axes>"
      ]
     },
     "metadata": {
      "needs_background": "light"
     },
     "output_type": "display_data"
    },
    {
     "data": {
      "image/png": "[encoded data removed]",
      "text/plain": [
       "<Figure size 432x288 with 1 Axes>"
      ]
     },
     "metadata": {
      "needs_background": "light"
     },
     "output_type": "display_data"
    },
    {
     "data": {
      "image/png": "[encoded data removed]",
      "text/plain": [
       "<Figure size 432x288 with 1 Axes>"
      ]
     },
     "metadata": {
      "needs_background": "light"
     },
     "output_type": "display_data"
    },
    {
     "data": {
      "image/png": "[encoded data removed]",
      "text/plain": [
       "<Figure size 432x288 with 1 Axes>"
      ]
     },
     "metadata": {
      "needs_background": "light"
     },
     "output_type": "display_data"
    },
    {
     "data": {
      "image/png": "[encoded data removed]",
      "text/plain": [
       "<Figure size 432x288 with 1 Axes>"
      ]
     },
     "metadata": {
      "needs_background": "light"
     },
     "output_type": "display_data"
    },
    {
     "data": {
      "image/png": "[encoded data removed]",
      "text/plain": [
       "<Figure size 432x288 with 1 Axes>"
      ]
     },
     "metadata": {
      "needs_background": "light"
     },
     "output_type": "display_data"
    },
    {
     "data": {
      "image/png": "[encoded data removed]",
      "text/plain": [
       "<Figure size 432x288 with 1 Axes>"
      ]
     },
     "metadata": {
      "needs_background": "light"
     },
     "output_type": "display_data"
    },
    {
     "data": {
      "image/png": "[encoded data removed]",
      "text/plain": [
       "<Figure size 432x288 with 1 Axes>"
      ]
     },
     "metadata": {
      "needs_background": "light"
     },
     "output_type": "display_data"
    },
    {
     "data": {
      "image/png": "[encoded data removed]",
      "text/plain": [
       "<Figure size 432x288 with 1 Axes>"
      ]
     },
     "metadata": {
      "needs_background": "light"
     },
     "output_type": "display_data"
    },
    {
     "data": {
      "image/png": "[encoded data removed]",
      "text/plain": [
       "<Figure size 432x288 with 1 Axes>"
      ]
     },
     "metadata": {
      "needs_background": "light"
     },
     "output_type": "display_data"
    },
    {
     "data": {
      "image/png": "[encoded data removed]",
      "text/plain": [
       "<Figure size 432x288 with 1 Axes>"
      ]
     },
     "metadata": {
      "needs_background": "light"
     },
     "output_type": "display_data"
    }
   ],
   "source": [
    "# Plots for categorical attributes\n",
    "for i in cat:\n",
    "    pd.crosstab(final[i],columns='count').plot(kind = 'bar')"
   ]
  },
  {
   "cell_type": "code",
   "execution_count": 109,
   "metadata": {},
   "outputs": [],
   "source": [
    "# Plot for numerical attributes\n",
    "for i in num:\n",
    "    final[i] = final[i].astype('int')"
   ]
  },
  {
   "cell_type": "markdown",
   "metadata": {},
   "source": [
    "BaseCharge plot"
   ]
  },
  {
   "cell_type": "code",
   "execution_count": 110,
   "metadata": {
    "scrolled": false
   },
   "outputs": [
    {
     "data": {
      "text/plain": [
       "Text(0, 0.5, 'frequency')"
      ]
     },
     "execution_count": 110,
     "metadata": {},
     "output_type": "execute_result"
    },
    {
     "data": {
      "image/png": "[encoded data removed]",
      "text/plain": [
       "<Figure size 432x288 with 1 Axes>"
      ]
     },
     "metadata": {
      "needs_background": "light"
     },
     "output_type": "display_data"
    }
   ],
   "source": [
    "plt.figure()\n",
    "final.BaseCharges.hist()\n",
    "plt.xlabel('BaseCharges')\n",
    "plt.ylabel('frequency')"
   ]
  },
  {
   "cell_type": "markdown",
   "metadata": {},
   "source": [
    "TotalCharges plot"
   ]
  },
  {
   "cell_type": "code",
   "execution_count": 111,
   "metadata": {},
   "outputs": [
    {
     "data": {
      "text/plain": [
       "Text(0, 0.5, 'frequency')"
      ]
     },
     "execution_count": 111,
     "metadata": {},
     "output_type": "execute_result"
    },
    {
     "data": {
      "image/png": "[encoded data removed]",
      "text/plain": [
       "<Figure size 432x288 with 1 Axes>"
      ]
     },
     "metadata": {
      "needs_background": "light"
     },
     "output_type": "display_data"
    }
   ],
   "source": [
    "plt.figure()\n",
    "final.TotalCharges.hist()\n",
    "plt.xlabel('TotalCharges')\n",
    "plt.ylabel('frequency')"
   ]
  },
  {
   "cell_type": "markdown",
   "metadata": {},
   "source": [
    "### Date"
   ]
  },
  {
   "cell_type": "code",
   "execution_count": 112,
   "metadata": {},
   "outputs": [],
   "source": [
    "import datetime"
   ]
  },
  {
   "cell_type": "code",
   "execution_count": 113,
   "metadata": {},
   "outputs": [],
   "source": [
    "# Date time format\n",
    "final.DOC = pd.to_datetime(final.DOC)"
   ]
  },
  {
   "cell_type": "code",
   "execution_count": 114,
   "metadata": {},
   "outputs": [],
   "source": [
    "final.DOE = pd.to_datetime(final.DOE)"
   ]
  },
  {
   "cell_type": "markdown",
   "metadata": {},
   "source": [
    "#### Feature Engineering"
   ]
  },
  {
   "cell_type": "markdown",
   "metadata": {},
   "source": [
    "Here we'll introduce a new useful entry from the existing coloumns (DOE and DOC). Age is the Lifetime of the Customer"
   ]
  },
  {
   "cell_type": "code",
   "execution_count": 115,
   "metadata": {},
   "outputs": [],
   "source": [
    "final['Age'] = final.DOC - final.DOE"
   ]
  },
  {
   "cell_type": "code",
   "execution_count": 116,
   "metadata": {},
   "outputs": [
    {
     "data": {
      "text/plain": [
       "0       477 days\n",
       "1       147 days\n",
       "2       477 days\n",
       "3      2217 days\n",
       "4       147 days\n",
       "          ...   \n",
       "5264   1587 days\n",
       "5265   1947 days\n",
       "5266    807 days\n",
       "5267   1137 days\n",
       "5268   2037 days\n",
       "Name: Age, Length: 5269, dtype: timedelta64[ns]"
      ]
     },
     "execution_count": 116,
     "metadata": {},
     "output_type": "execute_result"
    }
   ],
   "source": [
    "final.Age"
   ]
  },
  {
   "cell_type": "markdown",
   "metadata": {},
   "source": [
    "We have to keep this in number format"
   ]
  },
  {
   "cell_type": "code",
   "execution_count": 117,
   "metadata": {},
   "outputs": [],
   "source": [
    "# Converting to int, models does not accept timedelta\n",
    "final.Age = (final.Age / np.timedelta64(1, 'D')).astype('int')"
   ]
  },
  {
   "cell_type": "code",
   "execution_count": 118,
   "metadata": {},
   "outputs": [
    {
     "data": {
      "text/html": [
       "<div>\n",
       "<style scoped>\n",
       "    .dataframe tbody tr th:only-of-type {\n",
       "        vertical-align: middle;\n",
       "    }\n",
       "\n",
       "    .dataframe tbody tr th {\n",
       "        vertical-align: top;\n",
       "    }\n",
       "\n",
       "    .dataframe thead th {\n",
       "        text-align: right;\n",
       "    }\n",
       "</style>\n",
       "<table border=\"1\" class=\"dataframe\">\n",
       "  <thead>\n",
       "    <tr style=\"text-align: right;\">\n",
       "      <th></th>\n",
       "      <th>CustomerID</th>\n",
       "      <th>Churn</th>\n",
       "      <th>BaseCharges</th>\n",
       "      <th>DOC</th>\n",
       "      <th>TotalCharges</th>\n",
       "      <th>DOE</th>\n",
       "      <th>ElectronicBilling</th>\n",
       "      <th>ContractType</th>\n",
       "      <th>PaymentMethod</th>\n",
       "      <th>Retired</th>\n",
       "      <th>...</th>\n",
       "      <th>DeviceProtection</th>\n",
       "      <th>HasPhoneService</th>\n",
       "      <th>InternetServiceCategory</th>\n",
       "      <th>MultipleLines</th>\n",
       "      <th>OnlineBackup</th>\n",
       "      <th>OnlineSecurity</th>\n",
       "      <th>StreamingMovies</th>\n",
       "      <th>StreamingTelevision</th>\n",
       "      <th>TechnicalSupport</th>\n",
       "      <th>Age</th>\n",
       "    </tr>\n",
       "  </thead>\n",
       "  <tbody>\n",
       "    <tr>\n",
       "      <td>0</td>\n",
       "      <td>Cust1201</td>\n",
       "      <td>0</td>\n",
       "      <td>478</td>\n",
       "      <td>2012-05-01</td>\n",
       "      <td>5920</td>\n",
       "      <td>2011-01-10</td>\n",
       "      <td>0</td>\n",
       "      <td>1</td>\n",
       "      <td>2</td>\n",
       "      <td>0</td>\n",
       "      <td>...</td>\n",
       "      <td>2</td>\n",
       "      <td>1</td>\n",
       "      <td>1</td>\n",
       "      <td>0</td>\n",
       "      <td>0</td>\n",
       "      <td>0</td>\n",
       "      <td>2</td>\n",
       "      <td>2</td>\n",
       "      <td>0</td>\n",
       "      <td>477</td>\n",
       "    </tr>\n",
       "    <tr>\n",
       "      <td>1</td>\n",
       "      <td>Cust1202</td>\n",
       "      <td>0</td>\n",
       "      <td>103</td>\n",
       "      <td>2012-05-01</td>\n",
       "      <td>103</td>\n",
       "      <td>2011-12-06</td>\n",
       "      <td>0</td>\n",
       "      <td>0</td>\n",
       "      <td>2</td>\n",
       "      <td>0</td>\n",
       "      <td>...</td>\n",
       "      <td>1</td>\n",
       "      <td>1</td>\n",
       "      <td>2</td>\n",
       "      <td>0</td>\n",
       "      <td>1</td>\n",
       "      <td>1</td>\n",
       "      <td>1</td>\n",
       "      <td>1</td>\n",
       "      <td>1</td>\n",
       "      <td>147</td>\n",
       "    </tr>\n",
       "    <tr>\n",
       "      <td>2</td>\n",
       "      <td>Cust1203</td>\n",
       "      <td>0</td>\n",
       "      <td>399</td>\n",
       "      <td>2012-05-01</td>\n",
       "      <td>5217</td>\n",
       "      <td>2011-01-10</td>\n",
       "      <td>1</td>\n",
       "      <td>0</td>\n",
       "      <td>0</td>\n",
       "      <td>0</td>\n",
       "      <td>...</td>\n",
       "      <td>0</td>\n",
       "      <td>1</td>\n",
       "      <td>1</td>\n",
       "      <td>0</td>\n",
       "      <td>0</td>\n",
       "      <td>0</td>\n",
       "      <td>2</td>\n",
       "      <td>0</td>\n",
       "      <td>0</td>\n",
       "      <td>477</td>\n",
       "    </tr>\n",
       "    <tr>\n",
       "      <td>3</td>\n",
       "      <td>Cust1204</td>\n",
       "      <td>0</td>\n",
       "      <td>324</td>\n",
       "      <td>2012-05-01</td>\n",
       "      <td>22757</td>\n",
       "      <td>2006-04-06</td>\n",
       "      <td>0</td>\n",
       "      <td>1</td>\n",
       "      <td>0</td>\n",
       "      <td>0</td>\n",
       "      <td>...</td>\n",
       "      <td>0</td>\n",
       "      <td>1</td>\n",
       "      <td>0</td>\n",
       "      <td>2</td>\n",
       "      <td>2</td>\n",
       "      <td>2</td>\n",
       "      <td>0</td>\n",
       "      <td>0</td>\n",
       "      <td>2</td>\n",
       "      <td>2217</td>\n",
       "    </tr>\n",
       "    <tr>\n",
       "      <td>4</td>\n",
       "      <td>Cust1205</td>\n",
       "      <td>1</td>\n",
       "      <td>372</td>\n",
       "      <td>2012-05-01</td>\n",
       "      <td>372</td>\n",
       "      <td>2011-12-06</td>\n",
       "      <td>1</td>\n",
       "      <td>0</td>\n",
       "      <td>2</td>\n",
       "      <td>0</td>\n",
       "      <td>...</td>\n",
       "      <td>0</td>\n",
       "      <td>1</td>\n",
       "      <td>1</td>\n",
       "      <td>2</td>\n",
       "      <td>0</td>\n",
       "      <td>0</td>\n",
       "      <td>0</td>\n",
       "      <td>0</td>\n",
       "      <td>0</td>\n",
       "      <td>147</td>\n",
       "    </tr>\n",
       "  </tbody>\n",
       "</table>\n",
       "<p>5 rows × 24 columns</p>\n",
       "</div>"
      ],
      "text/plain": [
       "  CustomerID Churn  BaseCharges        DOC  TotalCharges        DOE  \\\n",
       "0   Cust1201     0          478 2012-05-01          5920 2011-01-10   \n",
       "1   Cust1202     0          103 2012-05-01           103 2011-12-06   \n",
       "2   Cust1203     0          399 2012-05-01          5217 2011-01-10   \n",
       "3   Cust1204     0          324 2012-05-01         22757 2006-04-06   \n",
       "4   Cust1205     1          372 2012-05-01           372 2011-12-06   \n",
       "\n",
       "  ElectronicBilling ContractType PaymentMethod Retired  ... DeviceProtection  \\\n",
       "0                 0            1             2       0  ...                2   \n",
       "1                 0            0             2       0  ...                1   \n",
       "2                 1            0             0       0  ...                0   \n",
       "3                 0            1             0       0  ...                0   \n",
       "4                 1            0             2       0  ...                0   \n",
       "\n",
       "  HasPhoneService InternetServiceCategory MultipleLines OnlineBackup  \\\n",
       "0               1                       1             0            0   \n",
       "1               1                       2             0            1   \n",
       "2               1                       1             0            0   \n",
       "3               1                       0             2            2   \n",
       "4               1                       1             2            0   \n",
       "\n",
       "  OnlineSecurity StreamingMovies StreamingTelevision TechnicalSupport   Age  \n",
       "0              0               2                   2                0   477  \n",
       "1              1               1                   1                1   147  \n",
       "2              0               2                   0                0   477  \n",
       "3              2               0                   0                2  2217  \n",
       "4              0               0                   0                0   147  \n",
       "\n",
       "[5 rows x 24 columns]"
      ]
     },
     "execution_count": 118,
     "metadata": {},
     "output_type": "execute_result"
    }
   ],
   "source": [
    "final.head()"
   ]
  },
  {
   "cell_type": "code",
   "execution_count": 119,
   "metadata": {},
   "outputs": [
    {
     "data": {
      "text/plain": [
       "0     477\n",
       "1     147\n",
       "2     477\n",
       "3    2217\n",
       "4     147\n",
       "Name: Age, dtype: int32"
      ]
     },
     "execution_count": 119,
     "metadata": {},
     "output_type": "execute_result"
    }
   ],
   "source": [
    "final.Age.head()"
   ]
  },
  {
   "cell_type": "markdown",
   "metadata": {},
   "source": [
    "#### Correlation "
   ]
  },
  {
   "cell_type": "code",
   "execution_count": 120,
   "metadata": {},
   "outputs": [
    {
     "data": {
      "text/plain": [
       "<matplotlib.axes._subplots.AxesSubplot at 0x1a5f589cd48>"
      ]
     },
     "execution_count": 120,
     "metadata": {},
     "output_type": "execute_result"
    },
    {
     "data": {
      "image/png": "[encoded data removed]",
      "text/plain": [
       "<Figure size 432x288 with 2 Axes>"
      ]
     },
     "metadata": {
      "needs_background": "light"
     },
     "output_type": "display_data"
    }
   ],
   "source": [
    "import seaborn as sns \n",
    "sns.heatmap(final[['BaseCharges','Age','TotalCharges']].corr())"
   ]
  },
  {
   "cell_type": "markdown",
   "metadata": {},
   "source": [
    "By the plot, we know that there is a high positive correlation between Age (attribute is derived from DOC and DOE) and Total charges. "
   ]
  },
  {
   "cell_type": "markdown",
   "metadata": {},
   "source": [
    "#### Standardization\n",
    "Age, Base Charges, Total Charges are the numeric attributes in data with different scale. We use standardization techniques to make them in same scale. "
   ]
  },
  {
   "cell_type": "code",
   "execution_count": 121,
   "metadata": {},
   "outputs": [
    {
     "data": {
      "text/plain": [
       "(5269, 2)"
      ]
     },
     "execution_count": 121,
     "metadata": {},
     "output_type": "execute_result"
    }
   ],
   "source": [
    "# Numerical variables\n",
    "num_var = final[['BaseCharges','Age' ]]\n",
    "num_var.shape"
   ]
  },
  {
   "cell_type": "code",
   "execution_count": 122,
   "metadata": {},
   "outputs": [],
   "source": [
    "from sklearn.preprocessing import MinMaxScaler\n",
    "scaler = MinMaxScaler()"
   ]
  },
  {
   "cell_type": "code",
   "execution_count": 123,
   "metadata": {
    "scrolled": true
   },
   "outputs": [
    {
     "data": {
      "text/html": [
       "<div>\n",
       "<style scoped>\n",
       "    .dataframe tbody tr th:only-of-type {\n",
       "        vertical-align: middle;\n",
       "    }\n",
       "\n",
       "    .dataframe tbody tr th {\n",
       "        vertical-align: top;\n",
       "    }\n",
       "\n",
       "    .dataframe thead th {\n",
       "        text-align: right;\n",
       "    }\n",
       "</style>\n",
       "<table border=\"1\" class=\"dataframe\">\n",
       "  <thead>\n",
       "    <tr style=\"text-align: right;\">\n",
       "      <th></th>\n",
       "      <th>BaseCharges</th>\n",
       "      <th>Age</th>\n",
       "    </tr>\n",
       "  </thead>\n",
       "  <tbody>\n",
       "    <tr>\n",
       "      <td>0</td>\n",
       "      <td>0.770916</td>\n",
       "      <td>0.154930</td>\n",
       "    </tr>\n",
       "    <tr>\n",
       "      <td>1</td>\n",
       "      <td>0.023904</td>\n",
       "      <td>0.000000</td>\n",
       "    </tr>\n",
       "    <tr>\n",
       "      <td>2</td>\n",
       "      <td>0.613546</td>\n",
       "      <td>0.154930</td>\n",
       "    </tr>\n",
       "    <tr>\n",
       "      <td>3</td>\n",
       "      <td>0.464143</td>\n",
       "      <td>0.971831</td>\n",
       "    </tr>\n",
       "    <tr>\n",
       "      <td>4</td>\n",
       "      <td>0.559761</td>\n",
       "      <td>0.000000</td>\n",
       "    </tr>\n",
       "  </tbody>\n",
       "</table>\n",
       "</div>"
      ],
      "text/plain": [
       "   BaseCharges       Age\n",
       "0     0.770916  0.154930\n",
       "1     0.023904  0.000000\n",
       "2     0.613546  0.154930\n",
       "3     0.464143  0.971831\n",
       "4     0.559761  0.000000"
      ]
     },
     "execution_count": 123,
     "metadata": {},
     "output_type": "execute_result"
    }
   ],
   "source": [
    "num_scaled = pd.DataFrame(scaler.fit_transform(num_var),columns=num_var.columns)\n",
    "num_scaled.head()"
   ]
  },
  {
   "cell_type": "markdown",
   "metadata": {},
   "source": [
    "Dropping all the columns as we already have them"
   ]
  },
  {
   "cell_type": "code",
   "execution_count": 124,
   "metadata": {},
   "outputs": [],
   "source": [
    "final = final.drop(['TotalCharges','BaseCharges','Age'],1)"
   ]
  },
  {
   "cell_type": "markdown",
   "metadata": {},
   "source": [
    "Concatenate the BaseCharges and Age column in the final DataFrame"
   ]
  },
  {
   "cell_type": "code",
   "execution_count": 125,
   "metadata": {},
   "outputs": [],
   "source": [
    "final = pd.concat([num_scaled,final],1)"
   ]
  },
  {
   "cell_type": "code",
   "execution_count": 126,
   "metadata": {},
   "outputs": [
    {
     "data": {
      "text/html": [
       "<div>\n",
       "<style scoped>\n",
       "    .dataframe tbody tr th:only-of-type {\n",
       "        vertical-align: middle;\n",
       "    }\n",
       "\n",
       "    .dataframe tbody tr th {\n",
       "        vertical-align: top;\n",
       "    }\n",
       "\n",
       "    .dataframe thead th {\n",
       "        text-align: right;\n",
       "    }\n",
       "</style>\n",
       "<table border=\"1\" class=\"dataframe\">\n",
       "  <thead>\n",
       "    <tr style=\"text-align: right;\">\n",
       "      <th></th>\n",
       "      <th>BaseCharges</th>\n",
       "      <th>Age</th>\n",
       "      <th>CustomerID</th>\n",
       "      <th>Churn</th>\n",
       "      <th>DOC</th>\n",
       "      <th>DOE</th>\n",
       "      <th>ElectronicBilling</th>\n",
       "      <th>ContractType</th>\n",
       "      <th>PaymentMethod</th>\n",
       "      <th>Retired</th>\n",
       "      <th>...</th>\n",
       "      <th>Gender</th>\n",
       "      <th>DeviceProtection</th>\n",
       "      <th>HasPhoneService</th>\n",
       "      <th>InternetServiceCategory</th>\n",
       "      <th>MultipleLines</th>\n",
       "      <th>OnlineBackup</th>\n",
       "      <th>OnlineSecurity</th>\n",
       "      <th>StreamingMovies</th>\n",
       "      <th>StreamingTelevision</th>\n",
       "      <th>TechnicalSupport</th>\n",
       "    </tr>\n",
       "  </thead>\n",
       "  <tbody>\n",
       "    <tr>\n",
       "      <td>0</td>\n",
       "      <td>0.770916</td>\n",
       "      <td>0.154930</td>\n",
       "      <td>Cust1201</td>\n",
       "      <td>0</td>\n",
       "      <td>2012-05-01</td>\n",
       "      <td>2011-01-10</td>\n",
       "      <td>0</td>\n",
       "      <td>1</td>\n",
       "      <td>2</td>\n",
       "      <td>0</td>\n",
       "      <td>...</td>\n",
       "      <td>1</td>\n",
       "      <td>2</td>\n",
       "      <td>1</td>\n",
       "      <td>1</td>\n",
       "      <td>0</td>\n",
       "      <td>0</td>\n",
       "      <td>0</td>\n",
       "      <td>2</td>\n",
       "      <td>2</td>\n",
       "      <td>0</td>\n",
       "    </tr>\n",
       "    <tr>\n",
       "      <td>1</td>\n",
       "      <td>0.023904</td>\n",
       "      <td>0.000000</td>\n",
       "      <td>Cust1202</td>\n",
       "      <td>0</td>\n",
       "      <td>2012-05-01</td>\n",
       "      <td>2011-12-06</td>\n",
       "      <td>0</td>\n",
       "      <td>0</td>\n",
       "      <td>2</td>\n",
       "      <td>0</td>\n",
       "      <td>...</td>\n",
       "      <td>1</td>\n",
       "      <td>1</td>\n",
       "      <td>1</td>\n",
       "      <td>2</td>\n",
       "      <td>0</td>\n",
       "      <td>1</td>\n",
       "      <td>1</td>\n",
       "      <td>1</td>\n",
       "      <td>1</td>\n",
       "      <td>1</td>\n",
       "    </tr>\n",
       "    <tr>\n",
       "      <td>2</td>\n",
       "      <td>0.613546</td>\n",
       "      <td>0.154930</td>\n",
       "      <td>Cust1203</td>\n",
       "      <td>0</td>\n",
       "      <td>2012-05-01</td>\n",
       "      <td>2011-01-10</td>\n",
       "      <td>1</td>\n",
       "      <td>0</td>\n",
       "      <td>0</td>\n",
       "      <td>0</td>\n",
       "      <td>...</td>\n",
       "      <td>1</td>\n",
       "      <td>0</td>\n",
       "      <td>1</td>\n",
       "      <td>1</td>\n",
       "      <td>0</td>\n",
       "      <td>0</td>\n",
       "      <td>0</td>\n",
       "      <td>2</td>\n",
       "      <td>0</td>\n",
       "      <td>0</td>\n",
       "    </tr>\n",
       "    <tr>\n",
       "      <td>3</td>\n",
       "      <td>0.464143</td>\n",
       "      <td>0.971831</td>\n",
       "      <td>Cust1204</td>\n",
       "      <td>0</td>\n",
       "      <td>2012-05-01</td>\n",
       "      <td>2006-04-06</td>\n",
       "      <td>0</td>\n",
       "      <td>1</td>\n",
       "      <td>0</td>\n",
       "      <td>0</td>\n",
       "      <td>...</td>\n",
       "      <td>1</td>\n",
       "      <td>0</td>\n",
       "      <td>1</td>\n",
       "      <td>0</td>\n",
       "      <td>2</td>\n",
       "      <td>2</td>\n",
       "      <td>2</td>\n",
       "      <td>0</td>\n",
       "      <td>0</td>\n",
       "      <td>2</td>\n",
       "    </tr>\n",
       "    <tr>\n",
       "      <td>4</td>\n",
       "      <td>0.559761</td>\n",
       "      <td>0.000000</td>\n",
       "      <td>Cust1205</td>\n",
       "      <td>1</td>\n",
       "      <td>2012-05-01</td>\n",
       "      <td>2011-12-06</td>\n",
       "      <td>1</td>\n",
       "      <td>0</td>\n",
       "      <td>2</td>\n",
       "      <td>0</td>\n",
       "      <td>...</td>\n",
       "      <td>0</td>\n",
       "      <td>0</td>\n",
       "      <td>1</td>\n",
       "      <td>1</td>\n",
       "      <td>2</td>\n",
       "      <td>0</td>\n",
       "      <td>0</td>\n",
       "      <td>0</td>\n",
       "      <td>0</td>\n",
       "      <td>0</td>\n",
       "    </tr>\n",
       "  </tbody>\n",
       "</table>\n",
       "<p>5 rows × 23 columns</p>\n",
       "</div>"
      ],
      "text/plain": [
       "   BaseCharges       Age CustomerID Churn        DOC        DOE  \\\n",
       "0     0.770916  0.154930   Cust1201     0 2012-05-01 2011-01-10   \n",
       "1     0.023904  0.000000   Cust1202     0 2012-05-01 2011-12-06   \n",
       "2     0.613546  0.154930   Cust1203     0 2012-05-01 2011-01-10   \n",
       "3     0.464143  0.971831   Cust1204     0 2012-05-01 2006-04-06   \n",
       "4     0.559761  0.000000   Cust1205     1 2012-05-01 2011-12-06   \n",
       "\n",
       "  ElectronicBilling ContractType PaymentMethod Retired  ... Gender  \\\n",
       "0                 0            1             2       0  ...      1   \n",
       "1                 0            0             2       0  ...      1   \n",
       "2                 1            0             0       0  ...      1   \n",
       "3                 0            1             0       0  ...      1   \n",
       "4                 1            0             2       0  ...      0   \n",
       "\n",
       "  DeviceProtection HasPhoneService InternetServiceCategory MultipleLines  \\\n",
       "0                2               1                       1             0   \n",
       "1                1               1                       2             0   \n",
       "2                0               1                       1             0   \n",
       "3                0               1                       0             2   \n",
       "4                0               1                       1             2   \n",
       "\n",
       "  OnlineBackup OnlineSecurity StreamingMovies StreamingTelevision  \\\n",
       "0            0              0               2                   2   \n",
       "1            1              1               1                   1   \n",
       "2            0              0               2                   0   \n",
       "3            2              2               0                   0   \n",
       "4            0              0               0                   0   \n",
       "\n",
       "  TechnicalSupport  \n",
       "0                0  \n",
       "1                1  \n",
       "2                0  \n",
       "3                2  \n",
       "4                0  \n",
       "\n",
       "[5 rows x 23 columns]"
      ]
     },
     "execution_count": 126,
     "metadata": {},
     "output_type": "execute_result"
    }
   ],
   "source": [
    "final.head()"
   ]
  },
  {
   "cell_type": "markdown",
   "metadata": {},
   "source": [
    "Show the coloumns"
   ]
  },
  {
   "cell_type": "code",
   "execution_count": 127,
   "metadata": {},
   "outputs": [
    {
     "data": {
      "text/plain": [
       "Index(['BaseCharges', 'Age', 'CustomerID', 'Churn', 'DOC', 'DOE',\n",
       "       'ElectronicBilling', 'ContractType', 'PaymentMethod', 'Retired',\n",
       "       'HasPartner', 'HasDependents', 'Education', 'Gender',\n",
       "       'DeviceProtection', 'HasPhoneService', 'InternetServiceCategory',\n",
       "       'MultipleLines', 'OnlineBackup', 'OnlineSecurity', 'StreamingMovies',\n",
       "       'StreamingTelevision', 'TechnicalSupport'],\n",
       "      dtype='object')"
      ]
     },
     "execution_count": 127,
     "metadata": {},
     "output_type": "execute_result"
    }
   ],
   "source": [
    "final.columns"
   ]
  },
  {
   "cell_type": "markdown",
   "metadata": {},
   "source": [
    "Dimensions"
   ]
  },
  {
   "cell_type": "code",
   "execution_count": 128,
   "metadata": {},
   "outputs": [
    {
     "data": {
      "text/plain": [
       "(5269, 23)"
      ]
     },
     "execution_count": 128,
     "metadata": {},
     "output_type": "execute_result"
    }
   ],
   "source": [
    "final.shape"
   ]
  },
  {
   "cell_type": "code",
   "execution_count": 129,
   "metadata": {},
   "outputs": [],
   "source": [
    "y = final.Churn \n",
    "x = final.drop(['Churn','DOC','DOE'],1) "
   ]
  },
  {
   "cell_type": "code",
   "execution_count": 130,
   "metadata": {},
   "outputs": [
    {
     "data": {
      "text/plain": [
       "0    0\n",
       "1    0\n",
       "2    0\n",
       "3    0\n",
       "4    1\n",
       "Name: Churn, dtype: category\n",
       "Categories (2, int64): [0, 1]"
      ]
     },
     "execution_count": 130,
     "metadata": {},
     "output_type": "execute_result"
    }
   ],
   "source": [
    "y.head()"
   ]
  },
  {
   "cell_type": "code",
   "execution_count": 131,
   "metadata": {
    "scrolled": true
   },
   "outputs": [
    {
     "data": {
      "text/html": [
       "<div>\n",
       "<style scoped>\n",
       "    .dataframe tbody tr th:only-of-type {\n",
       "        vertical-align: middle;\n",
       "    }\n",
       "\n",
       "    .dataframe tbody tr th {\n",
       "        vertical-align: top;\n",
       "    }\n",
       "\n",
       "    .dataframe thead th {\n",
       "        text-align: right;\n",
       "    }\n",
       "</style>\n",
       "<table border=\"1\" class=\"dataframe\">\n",
       "  <thead>\n",
       "    <tr style=\"text-align: right;\">\n",
       "      <th></th>\n",
       "      <th>BaseCharges</th>\n",
       "      <th>Age</th>\n",
       "      <th>CustomerID</th>\n",
       "      <th>ElectronicBilling</th>\n",
       "      <th>ContractType</th>\n",
       "      <th>PaymentMethod</th>\n",
       "      <th>Retired</th>\n",
       "      <th>HasPartner</th>\n",
       "      <th>HasDependents</th>\n",
       "      <th>Education</th>\n",
       "      <th>Gender</th>\n",
       "      <th>DeviceProtection</th>\n",
       "      <th>HasPhoneService</th>\n",
       "      <th>InternetServiceCategory</th>\n",
       "      <th>MultipleLines</th>\n",
       "      <th>OnlineBackup</th>\n",
       "      <th>OnlineSecurity</th>\n",
       "      <th>StreamingMovies</th>\n",
       "      <th>StreamingTelevision</th>\n",
       "      <th>TechnicalSupport</th>\n",
       "    </tr>\n",
       "  </thead>\n",
       "  <tbody>\n",
       "    <tr>\n",
       "      <td>0</td>\n",
       "      <td>0.770916</td>\n",
       "      <td>0.154930</td>\n",
       "      <td>Cust1201</td>\n",
       "      <td>0</td>\n",
       "      <td>1</td>\n",
       "      <td>2</td>\n",
       "      <td>0</td>\n",
       "      <td>1</td>\n",
       "      <td>1</td>\n",
       "      <td>2</td>\n",
       "      <td>1</td>\n",
       "      <td>2</td>\n",
       "      <td>1</td>\n",
       "      <td>1</td>\n",
       "      <td>0</td>\n",
       "      <td>0</td>\n",
       "      <td>0</td>\n",
       "      <td>2</td>\n",
       "      <td>2</td>\n",
       "      <td>0</td>\n",
       "    </tr>\n",
       "    <tr>\n",
       "      <td>1</td>\n",
       "      <td>0.023904</td>\n",
       "      <td>0.000000</td>\n",
       "      <td>Cust1202</td>\n",
       "      <td>0</td>\n",
       "      <td>0</td>\n",
       "      <td>2</td>\n",
       "      <td>0</td>\n",
       "      <td>1</td>\n",
       "      <td>1</td>\n",
       "      <td>4</td>\n",
       "      <td>1</td>\n",
       "      <td>1</td>\n",
       "      <td>1</td>\n",
       "      <td>2</td>\n",
       "      <td>0</td>\n",
       "      <td>1</td>\n",
       "      <td>1</td>\n",
       "      <td>1</td>\n",
       "      <td>1</td>\n",
       "      <td>1</td>\n",
       "    </tr>\n",
       "    <tr>\n",
       "      <td>2</td>\n",
       "      <td>0.613546</td>\n",
       "      <td>0.154930</td>\n",
       "      <td>Cust1203</td>\n",
       "      <td>1</td>\n",
       "      <td>0</td>\n",
       "      <td>0</td>\n",
       "      <td>0</td>\n",
       "      <td>1</td>\n",
       "      <td>1</td>\n",
       "      <td>4</td>\n",
       "      <td>1</td>\n",
       "      <td>0</td>\n",
       "      <td>1</td>\n",
       "      <td>1</td>\n",
       "      <td>0</td>\n",
       "      <td>0</td>\n",
       "      <td>0</td>\n",
       "      <td>2</td>\n",
       "      <td>0</td>\n",
       "      <td>0</td>\n",
       "    </tr>\n",
       "    <tr>\n",
       "      <td>3</td>\n",
       "      <td>0.464143</td>\n",
       "      <td>0.971831</td>\n",
       "      <td>Cust1204</td>\n",
       "      <td>0</td>\n",
       "      <td>1</td>\n",
       "      <td>0</td>\n",
       "      <td>0</td>\n",
       "      <td>1</td>\n",
       "      <td>0</td>\n",
       "      <td>4</td>\n",
       "      <td>1</td>\n",
       "      <td>0</td>\n",
       "      <td>1</td>\n",
       "      <td>0</td>\n",
       "      <td>2</td>\n",
       "      <td>2</td>\n",
       "      <td>2</td>\n",
       "      <td>0</td>\n",
       "      <td>0</td>\n",
       "      <td>2</td>\n",
       "    </tr>\n",
       "    <tr>\n",
       "      <td>4</td>\n",
       "      <td>0.559761</td>\n",
       "      <td>0.000000</td>\n",
       "      <td>Cust1205</td>\n",
       "      <td>1</td>\n",
       "      <td>0</td>\n",
       "      <td>2</td>\n",
       "      <td>0</td>\n",
       "      <td>1</td>\n",
       "      <td>1</td>\n",
       "      <td>4</td>\n",
       "      <td>0</td>\n",
       "      <td>0</td>\n",
       "      <td>1</td>\n",
       "      <td>1</td>\n",
       "      <td>2</td>\n",
       "      <td>0</td>\n",
       "      <td>0</td>\n",
       "      <td>0</td>\n",
       "      <td>0</td>\n",
       "      <td>0</td>\n",
       "    </tr>\n",
       "  </tbody>\n",
       "</table>\n",
       "</div>"
      ],
      "text/plain": [
       "   BaseCharges       Age CustomerID ElectronicBilling ContractType  \\\n",
       "0     0.770916  0.154930   Cust1201                 0            1   \n",
       "1     0.023904  0.000000   Cust1202                 0            0   \n",
       "2     0.613546  0.154930   Cust1203                 1            0   \n",
       "3     0.464143  0.971831   Cust1204                 0            1   \n",
       "4     0.559761  0.000000   Cust1205                 1            0   \n",
       "\n",
       "  PaymentMethod Retired HasPartner HasDependents Education Gender  \\\n",
       "0             2       0          1             1         2      1   \n",
       "1             2       0          1             1         4      1   \n",
       "2             0       0          1             1         4      1   \n",
       "3             0       0          1             0         4      1   \n",
       "4             2       0          1             1         4      0   \n",
       "\n",
       "  DeviceProtection HasPhoneService InternetServiceCategory MultipleLines  \\\n",
       "0                2               1                       1             0   \n",
       "1                1               1                       2             0   \n",
       "2                0               1                       1             0   \n",
       "3                0               1                       0             2   \n",
       "4                0               1                       1             2   \n",
       "\n",
       "  OnlineBackup OnlineSecurity StreamingMovies StreamingTelevision  \\\n",
       "0            0              0               2                   2   \n",
       "1            1              1               1                   1   \n",
       "2            0              0               2                   0   \n",
       "3            2              2               0                   0   \n",
       "4            0              0               0                   0   \n",
       "\n",
       "  TechnicalSupport  \n",
       "0                0  \n",
       "1                1  \n",
       "2                0  \n",
       "3                2  \n",
       "4                0  "
      ]
     },
     "execution_count": 131,
     "metadata": {},
     "output_type": "execute_result"
    }
   ],
   "source": [
    "x.head()"
   ]
  },
  {
   "cell_type": "markdown",
   "metadata": {},
   "source": [
    "### Train Test Split"
   ]
  },
  {
   "cell_type": "code",
   "execution_count": 132,
   "metadata": {},
   "outputs": [],
   "source": [
    "from sklearn.model_selection import train_test_split"
   ]
  },
  {
   "cell_type": "code",
   "execution_count": 133,
   "metadata": {},
   "outputs": [],
   "source": [
    "xtrain,xtest,ytrain,ytest = train_test_split(x,y,test_size = 0.3,stratify = y,random_state=0)"
   ]
  },
  {
   "cell_type": "code",
   "execution_count": 134,
   "metadata": {},
   "outputs": [],
   "source": [
    "x_train = xtrain.drop(['CustomerID'],1)\n",
    "x_test = xtest.drop(['CustomerID'],1)"
   ]
  },
  {
   "cell_type": "code",
   "execution_count": 135,
   "metadata": {},
   "outputs": [],
   "source": [
    "xtest = xtest.drop(['Retired', 'HasPartner','Gender','Education','InternetServiceCategory','OnlineBackup',\n",
    "                                    'OnlineSecurity','HasPhoneService','DeviceProtection','MultipleLines','StreamingMovies',\n",
    "                                    'TechnicalSupport','HasDependents','StreamingTelevision','Age','ElectronicBilling',\n",
    "                                    'ContractType','PaymentMethod','BaseCharges'],1)"
   ]
  },
  {
   "cell_type": "markdown",
   "metadata": {},
   "source": [
    "### Model Building"
   ]
  },
  {
   "cell_type": "markdown",
   "metadata": {},
   "source": [
    "##### Random Forest"
   ]
  },
  {
   "cell_type": "code",
   "execution_count": 136,
   "metadata": {},
   "outputs": [],
   "source": [
    "from sklearn.ensemble import RandomForestClassifier"
   ]
  },
  {
   "cell_type": "code",
   "execution_count": 137,
   "metadata": {},
   "outputs": [],
   "source": [
    "r = RandomForestClassifier(n_estimators=100,n_jobs=-1,criterion='gini',class_weight='balanced',\n",
    "                           oob_score=True,random_state=20,max_depth=14,max_leaf_nodes=29,min_samples_leaf=6)"
   ]
  },
  {
   "cell_type": "code",
   "execution_count": 138,
   "metadata": {
    "scrolled": true
   },
   "outputs": [
    {
     "data": {
      "text/plain": [
       "RandomForestClassifier(bootstrap=True, class_weight='balanced',\n",
       "                       criterion='gini', max_depth=14, max_features='auto',\n",
       "                       max_leaf_nodes=29, min_impurity_decrease=0.0,\n",
       "                       min_impurity_split=None, min_samples_leaf=6,\n",
       "                       min_samples_split=2, min_weight_fraction_leaf=0.0,\n",
       "                       n_estimators=100, n_jobs=-1, oob_score=True,\n",
       "                       random_state=20, verbose=0, warm_start=False)"
      ]
     },
     "execution_count": 138,
     "metadata": {},
     "output_type": "execute_result"
    }
   ],
   "source": [
    "r.fit(x_train,ytrain)"
   ]
  },
  {
   "cell_type": "code",
   "execution_count": 139,
   "metadata": {},
   "outputs": [
    {
     "data": {
      "text/plain": [
       "0.7781995661605207"
      ]
     },
     "execution_count": 139,
     "metadata": {},
     "output_type": "execute_result"
    }
   ],
   "source": [
    "r.score(x_train,ytrain)"
   ]
  },
  {
   "cell_type": "code",
   "execution_count": 140,
   "metadata": {},
   "outputs": [
    {
     "name": "stdout",
     "output_type": "stream",
     "text": [
      "Confusion Matrix : \n",
      " [[909 276]\n",
      " [ 97 299]]\n"
     ]
    }
   ],
   "source": [
    "from sklearn.metrics import confusion_matrix\n",
    "print('Confusion Matrix : \\n',confusion_matrix(ytest,r.predict(x_test)))"
   ]
  },
  {
   "cell_type": "code",
   "execution_count": 141,
   "metadata": {},
   "outputs": [
    {
     "name": "stdout",
     "output_type": "stream",
     "text": [
      "\n",
      " Classifaction Report : \n",
      "\n",
      "               precision    recall  f1-score   support\n",
      "\n",
      "           0       0.90      0.77      0.83      1185\n",
      "           1       0.52      0.76      0.62       396\n",
      "\n",
      "    accuracy                           0.76      1581\n",
      "   macro avg       0.71      0.76      0.72      1581\n",
      "weighted avg       0.81      0.76      0.78      1581\n",
      "\n",
      "Accuracy : 0.7640733712839974\n"
     ]
    }
   ],
   "source": [
    "import sklearn.metrics as metrics\n",
    "print('\\n Classifaction Report : \\n\\n',metrics.classification_report(ytest,r.predict(x_test)))\n",
    "print('Accuracy :',metrics.accuracy_score(ytest,r.predict(x_test)))"
   ]
  },
  {
   "cell_type": "markdown",
   "metadata": {},
   "source": [
    "#### Prediction"
   ]
  },
  {
   "cell_type": "code",
   "execution_count": 142,
   "metadata": {},
   "outputs": [],
   "source": [
    "predicted_res = x_test.copy()\n",
    "predicted_res['Churn (Predicted)'] = r.predict(x_test)\n",
    "predicted_res['Churn (Predicted)'].replace((1,0),('Yes','No'),inplace=True)\n",
    "predicted_res['Churn (Actual)'] = ytest\n",
    "predicted_res['Churn (Actual)'].replace((1,0),('Yes','No'),inplace=True)"
   ]
  },
  {
   "cell_type": "markdown",
   "metadata": {},
   "source": [
    "Dropping unwanted columns"
   ]
  },
  {
   "cell_type": "code",
   "execution_count": 143,
   "metadata": {},
   "outputs": [],
   "source": [
    "predicted_res = predicted_res.drop(['Retired', 'HasPartner','Gender','Education','InternetServiceCategory','OnlineBackup',\n",
    "                                    'OnlineSecurity','HasPhoneService','DeviceProtection','MultipleLines','StreamingMovies',\n",
    "                                    'TechnicalSupport','HasDependents','StreamingTelevision','Age','ElectronicBilling',\n",
    "                                    'ContractType','PaymentMethod','BaseCharges'],1)"
   ]
  },
  {
   "cell_type": "code",
   "execution_count": 144,
   "metadata": {},
   "outputs": [
    {
     "data": {
      "text/html": [
       "<div>\n",
       "<style scoped>\n",
       "    .dataframe tbody tr th:only-of-type {\n",
       "        vertical-align: middle;\n",
       "    }\n",
       "\n",
       "    .dataframe tbody tr th {\n",
       "        vertical-align: top;\n",
       "    }\n",
       "\n",
       "    .dataframe thead th {\n",
       "        text-align: right;\n",
       "    }\n",
       "</style>\n",
       "<table border=\"1\" class=\"dataframe\">\n",
       "  <thead>\n",
       "    <tr style=\"text-align: right;\">\n",
       "      <th></th>\n",
       "      <th>CustomerID</th>\n",
       "      <th>Churn (Predicted)</th>\n",
       "      <th>Churn (Actual)</th>\n",
       "    </tr>\n",
       "  </thead>\n",
       "  <tbody>\n",
       "    <tr>\n",
       "      <td>0</td>\n",
       "      <td>Cust5757</td>\n",
       "      <td>No</td>\n",
       "      <td>No</td>\n",
       "    </tr>\n",
       "    <tr>\n",
       "      <td>1</td>\n",
       "      <td>Cust4818</td>\n",
       "      <td>No</td>\n",
       "      <td>No</td>\n",
       "    </tr>\n",
       "    <tr>\n",
       "      <td>2</td>\n",
       "      <td>Cust5742</td>\n",
       "      <td>Yes</td>\n",
       "      <td>No</td>\n",
       "    </tr>\n",
       "    <tr>\n",
       "      <td>3</td>\n",
       "      <td>Cust4679</td>\n",
       "      <td>No</td>\n",
       "      <td>No</td>\n",
       "    </tr>\n",
       "    <tr>\n",
       "      <td>4</td>\n",
       "      <td>Cust2862</td>\n",
       "      <td>No</td>\n",
       "      <td>No</td>\n",
       "    </tr>\n",
       "  </tbody>\n",
       "</table>\n",
       "</div>"
      ],
      "text/plain": [
       "  CustomerID Churn (Predicted) Churn (Actual)\n",
       "0   Cust5757                No             No\n",
       "1   Cust4818                No             No\n",
       "2   Cust5742               Yes             No\n",
       "3   Cust4679                No             No\n",
       "4   Cust2862                No             No"
      ]
     },
     "execution_count": 144,
     "metadata": {},
     "output_type": "execute_result"
    }
   ],
   "source": [
    "predicted_res = pd.concat([xtest,predicted_res],1)\n",
    "predicted_res.reset_index(drop=True,inplace=True)\n",
    "predicted_res.head()"
   ]
  },
  {
   "cell_type": "code",
   "execution_count": null,
   "metadata": {},
   "outputs": [],
   "source": [
    "predicted_res.to_csv(\"prediction_randmfor.csv\",index=False)"
   ]
  },
  {
   "cell_type": "markdown",
   "metadata": {},
   "source": [
    "##### Logistic Regression"
   ]
  },
  {
   "cell_type": "code",
   "execution_count": 148,
   "metadata": {},
   "outputs": [],
   "source": [
    "from sklearn.linear_model import LogisticRegressionCV\n",
    "logreg = LogisticRegressionCV(class_weight='balanced',random_state=20,cv = 10,scoring='accuracy',Cs=100)"
   ]
  },
  {
   "cell_type": "code",
   "execution_count": 149,
   "metadata": {},
   "outputs": [
    {
     "data": {
      "text/plain": [
       "LogisticRegressionCV(Cs=100, class_weight='balanced', cv=10, dual=False,\n",
       "                     fit_intercept=True, intercept_scaling=1.0, l1_ratios=None,\n",
       "                     max_iter=100, multi_class='warn', n_jobs=None,\n",
       "                     penalty='l2', random_state=20, refit=True,\n",
       "                     scoring='accuracy', solver='lbfgs', tol=0.0001, verbose=0)"
      ]
     },
     "execution_count": 149,
     "metadata": {},
     "output_type": "execute_result"
    }
   ],
   "source": [
    "logreg.fit(x_train,ytrain)"
   ]
  },
  {
   "cell_type": "code",
   "execution_count": 150,
   "metadata": {},
   "outputs": [
    {
     "name": "stderr",
     "output_type": "stream",
     "text": [
      "C:\\Users\\Favas\\Anaconda3\\lib\\site-packages\\sklearn\\linear_model\\logistic.py:2260: ChangedBehaviorWarning: The long-standing behavior to use the accuracy score has changed. The scoring parameter is now used. This warning will disappear in version 0.22.\n",
      "  ChangedBehaviorWarning)\n"
     ]
    },
    {
     "data": {
      "text/plain": [
       "0.754880694143167"
      ]
     },
     "execution_count": 150,
     "metadata": {},
     "output_type": "execute_result"
    }
   ],
   "source": [
    "logreg.score(x_train,ytrain)"
   ]
  },
  {
   "cell_type": "code",
   "execution_count": 151,
   "metadata": {},
   "outputs": [
    {
     "name": "stdout",
     "output_type": "stream",
     "text": [
      "Confusion Matrix : \n",
      " [[887 298]\n",
      " [103 293]]\n"
     ]
    }
   ],
   "source": [
    "from sklearn.metrics import confusion_matrix\n",
    "print('Confusion Matrix : \\n',confusion_matrix(ytest,logreg.predict(x_test)))"
   ]
  },
  {
   "cell_type": "code",
   "execution_count": 152,
   "metadata": {
    "scrolled": true
   },
   "outputs": [
    {
     "name": "stdout",
     "output_type": "stream",
     "text": [
      "\n",
      " Classifaction Report : \n",
      "\n",
      "               precision    recall  f1-score   support\n",
      "\n",
      "           0       0.90      0.75      0.82      1185\n",
      "           1       0.50      0.74      0.59       396\n",
      "\n",
      "    accuracy                           0.75      1581\n",
      "   macro avg       0.70      0.74      0.70      1581\n",
      "weighted avg       0.80      0.75      0.76      1581\n",
      "\n",
      "Accuracy : 0.7463630613535737\n"
     ]
    }
   ],
   "source": [
    "import sklearn.metrics as metrics\n",
    "print('\\n Classifaction Report : \\n\\n',metrics.classification_report(ytest,logreg.predict(x_test)))\n",
    "print('Accuracy :',metrics.accuracy_score(ytest,logreg.predict(x_test)))"
   ]
  },
  {
   "cell_type": "markdown",
   "metadata": {},
   "source": [
    "#### Prediction"
   ]
  },
  {
   "cell_type": "code",
   "execution_count": 158,
   "metadata": {},
   "outputs": [],
   "source": [
    "predicted_res = x_test.copy()\n",
    "predicted_res['Churn (Predicted)'] = logreg.predict(x_test)\n",
    "predicted_res['Churn (Predicted)'].replace((1,0),('Yes','No'),inplace=True)\n",
    "predicted_res['Churn (Actual)'] = ytest\n",
    "predicted_res['Churn (Actual)'].replace((1,0),('Yes','No'),inplace=True)"
   ]
  },
  {
   "cell_type": "markdown",
   "metadata": {},
   "source": [
    "Dropping unwanted columns"
   ]
  },
  {
   "cell_type": "code",
   "execution_count": 159,
   "metadata": {},
   "outputs": [],
   "source": [
    "predicted_res = predicted_res.drop(['Retired', 'HasPartner','Gender','Education','InternetServiceCategory','OnlineBackup',\n",
    "                                    'OnlineSecurity','HasPhoneService','DeviceProtection','MultipleLines','StreamingMovies',\n",
    "                                    'TechnicalSupport','HasDependents','StreamingTelevision','Age','ElectronicBilling',\n",
    "                                    'ContractType','PaymentMethod','BaseCharges'],1)"
   ]
  },
  {
   "cell_type": "code",
   "execution_count": 160,
   "metadata": {},
   "outputs": [
    {
     "data": {
      "text/html": [
       "<div>\n",
       "<style scoped>\n",
       "    .dataframe tbody tr th:only-of-type {\n",
       "        vertical-align: middle;\n",
       "    }\n",
       "\n",
       "    .dataframe tbody tr th {\n",
       "        vertical-align: top;\n",
       "    }\n",
       "\n",
       "    .dataframe thead th {\n",
       "        text-align: right;\n",
       "    }\n",
       "</style>\n",
       "<table border=\"1\" class=\"dataframe\">\n",
       "  <thead>\n",
       "    <tr style=\"text-align: right;\">\n",
       "      <th></th>\n",
       "      <th>CustomerID</th>\n",
       "      <th>Churn (Predicted)</th>\n",
       "      <th>Churn (Actual)</th>\n",
       "    </tr>\n",
       "  </thead>\n",
       "  <tbody>\n",
       "    <tr>\n",
       "      <td>0</td>\n",
       "      <td>Cust5757</td>\n",
       "      <td>No</td>\n",
       "      <td>No</td>\n",
       "    </tr>\n",
       "    <tr>\n",
       "      <td>1</td>\n",
       "      <td>Cust4818</td>\n",
       "      <td>No</td>\n",
       "      <td>No</td>\n",
       "    </tr>\n",
       "    <tr>\n",
       "      <td>2</td>\n",
       "      <td>Cust5742</td>\n",
       "      <td>Yes</td>\n",
       "      <td>No</td>\n",
       "    </tr>\n",
       "    <tr>\n",
       "      <td>3</td>\n",
       "      <td>Cust4679</td>\n",
       "      <td>Yes</td>\n",
       "      <td>No</td>\n",
       "    </tr>\n",
       "    <tr>\n",
       "      <td>4</td>\n",
       "      <td>Cust2862</td>\n",
       "      <td>No</td>\n",
       "      <td>No</td>\n",
       "    </tr>\n",
       "  </tbody>\n",
       "</table>\n",
       "</div>"
      ],
      "text/plain": [
       "  CustomerID Churn (Predicted) Churn (Actual)\n",
       "0   Cust5757                No             No\n",
       "1   Cust4818                No             No\n",
       "2   Cust5742               Yes             No\n",
       "3   Cust4679               Yes             No\n",
       "4   Cust2862                No             No"
      ]
     },
     "execution_count": 160,
     "metadata": {},
     "output_type": "execute_result"
    }
   ],
   "source": [
    "predicted_res = pd.concat([xtest,predicted_res],1)\n",
    "predicted_res.reset_index(drop=True,inplace=True)\n",
    "predicted_res.head()"
   ]
  },
  {
   "cell_type": "code",
   "execution_count": 161,
   "metadata": {},
   "outputs": [
    {
     "data": {
      "text/plain": [
       "No     990\n",
       "Yes    591\n",
       "Name: Churn (Predicted), dtype: int64"
      ]
     },
     "execution_count": 161,
     "metadata": {},
     "output_type": "execute_result"
    }
   ],
   "source": [
    "predicted_res['Churn (Predicted)'].value_counts()"
   ]
  },
  {
   "cell_type": "code",
   "execution_count": null,
   "metadata": {},
   "outputs": [],
   "source": [
    "predicted_res.to_csv(\"prediction_logireg.csv\",index=False)"
   ]
  },
  {
   "cell_type": "code",
   "execution_count": null,
   "metadata": {},
   "outputs": [],
   "source": []
  }
 ],
 "metadata": {
  "kernelspec": {
   "display_name": "Python 3",
   "language": "python",
   "name": "python3"
  },
  "language_info": {
   "codemirror_mode": {
    "name": "ipython",
    "version": 3
   },
   "file_extension": ".py",
   "mimetype": "text/x-python",
   "name": "python",
   "nbconvert_exporter": "python",
   "pygments_lexer": "ipython3",
   "version": "3.7.4"
  }
 },
 "nbformat": 4,
 "nbformat_minor": 2
}
